{
 "cells": [
  {
   "cell_type": "markdown",
   "id": "0c9fe970",
   "metadata": {},
   "source": [
    "from outils import* # outils nécessaires au notebook<br>\n"
   ]
  },
  {
   "cell_type": "code",
   "execution_count": null,
   "id": "76a1a8b3",
   "metadata": {},
   "outputs": [],
   "source": [
    "# §red;u; Bases du langage Python : evaluation 00 éléments de correction § #\n",
    "![alt text](mes_images/logo_python.png \"logo du langage Python\")\n",
    "Saisir le nom et le prénom du binôme."
   ]
  },
  {
   "cell_type": "markdown",
   "id": "1b6ad495",
   "metadata": {},
   "source": [
    "nom1=input('Donne le nom du premier élève du binôme')<br>\n",
    "prenom1=input('Donne le prénom du premier élève du binôme')<br>\n",
    "nom2=input('Donne le nom du deuxième élève du binôme')<br>\n",
    "prenom2=input('Donne le prénom du deuxième élève du binôme')<br>\n"
   ]
  },
  {
   "cell_type": "code",
   "execution_count": null,
   "id": "5e16db67",
   "metadata": {},
   "outputs": [],
   "source": [
    "<div class=\"alert alert-info\"><strong>Exercice 1 : </strong> Une pièce rectangulaire a une longueur de 3,20 m et une largeur de 2,75 m. <br>\n",
    "On souhaite la carreler avec des carreaux carrés de 60 cm de côté. <br>\n",
    "Combien faut-il de careaux entiers sur la longueur ?<br>\n",
    "Combien faut-il de carreaux entiers sur la largeur ?<br>\n",
    "Ecrire dans la cellule de code ci-dessous les instructions python permettant de répondre àces deux questions.<br>\n",
    "Les deux réponses seront affectées respectivement à une variable nblong et une autre nblarg <br>\n",
    "Combien de carreaux entiers seront posés(affecter la réponse à une variable nbentier) ? Combien de carreaux nécessiteront une découpe(affecter la réponse à une variable (nbdecoupe)?<br>\n",
    "</div>"
   ]
  },
  {
   "cell_type": "markdown",
   "id": "5f3510a0",
   "metadata": {},
   "source": [
    "#complète le code\n",
    "nblong = 320//60<br>\n",
    "nblargeur = 275//60<br>\n",
    "nbentier = nblong * nblargeur<br>\n",
    "nbdecoupe = nblong + nblargeur + 1<br>\n",
    "print(\"il faut \",nbentier,\" carreaux entiers et il y aura \",nbdecoupe, \"carreaux coupés.\")<br>\n"
   ]
  },
  {
   "cell_type": "code",
   "execution_count": null,
   "id": "093d8854",
   "metadata": {},
   "outputs": [],
   "source": [
    "<div class=\"alert alert-info\"><strong>Exercice 2 : </strong>Voici des lignes de code : <br></div>\n",
    "\n",
    "£r = 5£\n",
    "£s = 2 * r$\n",
    "£s = s ** 2£\n",
    "£s = s - 5  £\n",
    "£s£\n",
    "\n",
    "<div class=\"alert alert-info\">Quelles seront les valeurs successives de s ? </div>"
   ]
  },
  {
   "cell_type": "markdown",
   "id": "080c9824",
   "metadata": {},
   "source": [
    "s_1 = 10<br>\n",
    "s_2 = 100<br>\n",
    "s_3 = 95<br>\n",
    "print(\"les valeurs successives prises par la variable s sont : \",s_1,\"  ;  \",s_2,\"  ;  \",s_3)<br>\n"
   ]
  },
  {
   "cell_type": "code",
   "execution_count": null,
   "id": "5b530645",
   "metadata": {},
   "outputs": [],
   "source": [
    "<div class=\"alert alert-info\"><strong>Exercice 3 : </strong> Ecrire un algorithme qui demande le rayon d'un cercle en cm à l'utilisateur et qui renvoie un message du type : <br>\n",
    "Le cercle de rayon 6 cm a un périmètre d'environ de 37,68 cm et le disque une aire d'environ 113,04 cm².\n",
    "Attention le programme doit donner la bonne valeur pour des rayons autres que 6.\n",
    "</div>"
   ]
  },
  {
   "cell_type": "markdown",
   "id": "246967b8",
   "metadata": {},
   "source": [
    "#ecris ici la suite d'instructions del'exercice 3 \n",
    "#ecris ici la suite d'instructions del'exercice 3 \n",
    "rayon = input(\"donner le rayon du cercle : \")<br>\n",
    "rayon = float(rayon)  #il faut transformer la saisie en float(), un rayon peut-être décimal<br>\n",
    "perimetre = 2 * 3.14 * rayon   # on calcule le périmètre<br>\n",
    "aire = 3.14 * rayon**2     #on calcule l'aire\n",
    "#on affiche les réponses trouvées\n",
    "print(\"le cercle de rayon \",rayon,\" cm a un périmètre d'environ \",perimetre,\" cm et une aire d'environ\",aire,\"cm².\")<br>\n"
   ]
  },
  {
   "cell_type": "code",
   "execution_count": null,
   "id": "b6edffc7",
   "metadata": {},
   "outputs": [],
   "source": [
    "<div class=\"alert alert-info\"><strong>Exercice 4 : </strong> \n",
    "Un stylo coûte 3 €, un cahier 2€ et un livre 6 €.<br>\n",
    "Ecrire un algorithme qui demande le nombre de stylos, de cahiers et de livres à l'utilisateur et qui renvoie un message\n",
    "donnant le prix à payer avec un affichage donnant le détail ainsi : \n",
    "stylo : prix1\n",
    "cahiers :prix2\n",
    "livre : prix3\n",
    "total : prix4\n",
    "</div>"
   ]
  },
  {
   "cell_type": "markdown",
   "id": "da723a8d",
   "metadata": {},
   "source": [
    "# ecrire ici le code\n",
    "stylo = input(\"combien de stylo achetés ?  \")      #on demande à l'utilisateur le nombre de stylos achetés<br>\n",
    "cahier = input(\"combien de cahiers achetés ?  \")    #on demande à l'utilisateur le nombre de cahiers achetés<br>\n",
    "livre = input(\"combien de livres achetés ?  \")     #on demande à l'utilisateur le nombre de livres achetés<br>\n",
    "stylo = int(stylo)     #il faut transformer la saisie en entier pour pouvoir effectuer des calculs<br>\n",
    "cahier = int(cahier)   #il faut transformer la saisie en entier pour pouvoir effectuer des calculs<br>\n",
    "livre = int(livre)      #il faut transformer la saisie en entier pour pouvoir effectuer des calculs<br>\n",
    "px1 = stylo * 3<br>\n",
    "px2 = cahier * 2<br>\n",
    "px3 = livre * 6<br>\n",
    "total = px1 + px2 + px3<br>\n",
    "print(\"les stylos coûtent  :  \",px1, \" €\")<br>\n",
    "print(\"les cahiers coûtent :  \",px2, \" €\")<br>\n",
    "print(\"les livres coûtent  :  \",px3, \" €\")<br>\n",
    "print(\"le total s'élève à  :  \",total,\" €\")<br>\n"
   ]
  }
 ],
 "metadata": {},
 "nbformat": 4,
 "nbformat_minor": 5
}
