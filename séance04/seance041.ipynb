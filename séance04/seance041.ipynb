{
 "cells": [
  {
   "cell_type": "code",
   "execution_count": null,
   "id": "757e0ecb",
   "metadata": {},
   "outputs": [],
   "source": [
    "from outils import* # outils nécessaires au notebook"
   ]
  },
  {
   "cell_type": "markdown",
   "id": "e3c407b1",
   "metadata": {},
   "source": [
    "# <span style=\"text-decoration: underline;color:red;\"> Les boucles bornées : l'instruction  </span>    <code>for</code>\n"
   ]
  },
  {
   "cell_type": "markdown",
   "id": "e758e368",
   "metadata": {},
   "source": [
    "![alt text](mes_images/logo_python.png \"logo du langage Python\")<br>\n"
   ]
  },
  {
   "cell_type": "markdown",
   "id": "2b0213ca",
   "metadata": {},
   "source": [
    "<div class=\"alert alert-info\" role=\"alert\"><br>\n",
    "<strong>Définition</strong>  <br>\n",
    "Si l'on désire répéter une instruction plusieurs fois, deux solutions s'offrent à nous :<br>\n",
    "• Soit écrire plusieurs fois l'instruction, en séquence. C'est pénible et fort peu pratique.<br>\n",
    "• Soit utiliser une <i>boucle</i>. Lorsque que le nombre de répétitions est connu, on utilise une <i>boucle bornée</i>. Une boucle bornée nécessite un <i>compteur</i>, c'est-à-dire une variable qui compte le nombre de tours de la boucle.<br>\n",
    "</div><br>\n",
    "<br>\n",
    "En pseudo-code :  <br>\n",
    "&nbsp;&nbsp;&nbsp;&nbsp;Pour i allant de 1 à n Faire     <-- ici le compteur est la variable i<br>\n",
    "&nbsp;&nbsp;&nbsp;&nbsp;&nbsp;&nbsp;&nbsp;&nbsp;Traitement<br>\n",
    "&nbsp;&nbsp;&nbsp;&nbsp;Fin Pour  <br>\n",
    "<br>\n",
    "&nbsp;&nbsp;&nbsp;<br>\n",
    "<div class=\"alert alert-danger\" role=\"alert\"><br>\n",
    "<br>\n",
    "<strong>Remarques</strong>  <br>\n",
    "• En Python, la fonction <code>range()</code> est indispensable pour écrire une boucle. Elle énumère les entiers de 0 à la valeur strictement inférieure à celle entrée dans la fonction. Autrement dit, si on veut énumérer les entiers de 0 à 9, on écrira `range(10)`.  • En Python, une boucle bornée s'écrit avec le mot clé <code>for</code> :  <br><br><code>for i in range(10):<br>&nbsp;&nbsp;&nbsp;&nbsp;&nbsp;&nbsp;print(\"J'adore la programmation !\")<br></code>Ce programme affiche 10 fois \"J'adore la programmation !\". Pas très utile...  <br>\n",
    "</div><br>\n",
    "&nbsp;&nbsp;&nbsp;&nbsp;<br>\n"
   ]
  },
  {
   "cell_type": "markdown",
   "id": "1f7c70f3",
   "metadata": {},
   "source": [
    "<strong>Exemples</strong>  <br>\n",
    "Tester le programme suivant. Que fait-il ?<br>\n",
    "Donner la réponse sous forme dee commentaire dans la cellule de code<br>\n"
   ]
  },
  {
   "cell_type": "code",
   "execution_count": null,
   "id": "210f1941",
   "metadata": {},
   "outputs": [],
   "source": [
    "for i in range(10):\n",
    "    print(9*i)\n",
    "# Le programme ...\n",
    "\n",
    "# On remarque que le compteur ..."
   ]
  },
  {
   "cell_type": "code",
   "execution_count": null,
   "id": "681a4e5c",
   "metadata": {},
   "outputs": [],
   "source": [
    "somme = 0\n",
    "for i in range(100):\n",
    "    somme = somme + i\n",
    "somme\n",
    "# Le programme ..."
   ]
  },
  {
   "cell_type": "markdown",
   "id": "a9857d4e",
   "metadata": {},
   "source": [
    "<div class=\"alert alert-info\"><strong>Exercice 1 : </strong>   <br>\n",
    "À l'aide des exemples précédents, écrire un programme qui calcule la somme des 50 premiers nombres pairs.  <br>\n",
    "&nbsp;&nbsp;&nbsp;</div><br>\n"
   ]
  },
  {
   "cell_type": "code",
   "execution_count": null,
   "id": "e2b25fdb",
   "metadata": {},
   "outputs": [],
   "source": [
    "#programme qui calcule la somme des 50 premiers nombres pairs.\n",
    "somme = 0\n",
    "for ..."
   ]
  },
  {
   "cell_type": "markdown",
   "id": "477d041a",
   "metadata": {},
   "source": [
    "<div class=\"alert alert-info\"><strong>Exercice 2 : </strong>   <br>\n",
    "En utilisant l'instruction \"for\", écrire un programme affichant en sortie la table de multiplication de 6 en allant de 1 à 10. <br>\n",
    "&nbsp;</div><br>\n"
   ]
  }
 ],
 "metadata": {
  "kernelspec": {
   "display_name": "Python 3 (ipykernel)",
   "language": "python",
   "name": "python3"
  },
  "language_info": {
   "codemirror_mode": {
    "name": "ipython",
    "version": 3
   },
   "file_extension": ".py",
   "mimetype": "text/x-python",
   "name": "python",
   "nbconvert_exporter": "python",
   "pygments_lexer": "ipython3",
   "version": "3.9.12"
  }
 },
 "nbformat": 4,
 "nbformat_minor": 5
}
