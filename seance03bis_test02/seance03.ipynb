{
 "cells": [
  {
   "cell_type": "code",
   "execution_count": null,
   "id": "48e04b69",
   "metadata": {},
   "outputs": [],
   "source": [
    "from outils import* # outils nécessaires au notebook"
   ]
  },
  {
   "cell_type": "markdown",
   "id": "7f504f0b",
   "metadata": {},
   "source": [
    "# <span style=\"text-decoration: underline;color:red;\"> Conditions, tests et booléens </span> #\n",
    "![alt text](mes_images/logo_python.png \"logo du langage Python\")<br>\n",
    "\n",
    "# <span style=\"color:skyblue;\"> Sommaire </span> #\n",
    "## <span style=\"color:skyblue;\"> 1 Les conditions </span> ##\n",
    "## <span style=\"color:skyblue;\">2 Les booléens </span> ##\n",
    "## <span style=\"color:skyblue;\">3 Les conditions multiples </span> ##\n",
    "<br>\n",
    "Les <strong>conditions</strong> nous permettent de rendre nos programmes adaptatifs en leur donnant la possibilité de se comporter différemment selon qu'une certaine condition est réalisée ou pas.<br>\n",
    "<br>\n",
    "<h2 style=\"text-decoration:underline;\" id=\"partie1\">1- Les conditions</h2><br><br><br>\n",
    "Le diagramme ci-dessous donne la structure conditionnelle de base : <strong>si ... alors ... sinon...</strong><br>\n"
   ]
  },
  {
   "cell_type": "markdown",
   "id": "5fc98361",
   "metadata": {},
   "source": [
    "![alt text](mes_images/schemacondition.png \"diagramme d'une condition de base\")<br>\n",
    "<br>\n",
    "Cela correspond au pseudo-code suivant :<br>\n",
    "<code>instructions A<br>Si condition vraie faire :<br>&nbsp;&nbsp;&nbsp;&nbsp;instructions B<br>Sinon<br>&nbsp;&nbsp;&nbsp;&nbsp;instructions C<br>instructions D<br></code><br>En Python, les mot-clés sont <span style=\"font-family:Courier New;font-size: 100%;\">if</span> (si) et <span style=\"font-family:Courier New;font-size: 100%;\">else</span> (sinon) : <br><br>\n",
    "<code>instructions A<br>if condition :<br>&nbsp;&nbsp;&nbsp;&nbsp;B<br>else:<br>&nbsp;&nbsp;&nbsp;&nbsp;C<br>D<br></code>Notez bien que les instructions des blocs B et C sont décalées (une indentation) par rapport au <span style=\"font-family:Courier New;font-size: 100%;\">if</span> et <span style=\"font-family:Courier New;font-size: 100%;\">else</span><br>\n",
    "Les instructions du bloc D seront exécutées quelque soit la valeur de la condition du si car elle n'est pas indentée (pas de décalage)<br><br>\n",
    "Le programme ci-dessous adapte son comportement à la réponse fournie par l'utilisateur :<br>\n"
   ]
  },
  {
   "cell_type": "code",
   "execution_count": null,
   "id": "0944b4ff",
   "metadata": {},
   "outputs": [],
   "source": [
    "âge = int(input(\"Veuillez entrer votre âge ! \"))\n",
    "if (âge >= 18):\n",
    "    print(\"Vous êtes majeur!\")\n",
    "else:\n",
    "    print(\"Vous êtes mineur!\")\n",
    "print(\"Au revoir!\")"
   ]
  },
  {
   "cell_type": "markdown",
   "id": "cf95fd34",
   "metadata": {},
   "source": [
    "<div class=\"alert alert-info\"><strong>Exercice 1 : </strong> Il faut mesurer au moins 1m30 pour pouvoir entrer dans un parc d'attractions.<br><br>\n",
    "Ecrire un programme qui demande à l'utilisateur sa taille en cm, et qui lui indique s'il peut ou non rentrer dans le parc.   <br>\n",
    "</div><br>\n"
   ]
  },
  {
   "cell_type": "code",
   "execution_count": null,
   "id": "71ce7bca",
   "metadata": {},
   "outputs": [],
   "source": [
    "#ecris ici ton code"
   ]
  },
  {
   "cell_type": "markdown",
   "id": "b99fa55b",
   "metadata": {},
   "source": [
    "<div class=\"alert alert-info\"><strong>Exercice 2 : </strong> Ecrire un programme qui demande à l'utilisateur de saisir deux nombres, puis qui affiche <strong>le plus grand</strong> de ces deux nombres.   <br>\n",
    "</div><br>\n"
   ]
  },
  {
   "cell_type": "code",
   "execution_count": null,
   "id": "a7289898",
   "metadata": {},
   "outputs": [],
   "source": [
    "#ecris ici ton code"
   ]
  },
  {
   "cell_type": "markdown",
   "id": "b1b3ae29",
   "metadata": {},
   "source": [
    "Voici les différents tests possibles :<br>\n"
   ]
  },
  {
   "cell_type": "markdown",
   "id": "8390c700",
   "metadata": {},
   "source": [
    "<table><br>\n",
    "&nbsp;&nbsp;&nbsp;&nbsp;<tr><th>Symbole</th><th>Signification</th></tr><br>\n",
    "&nbsp;&nbsp;&nbsp;&nbsp;<tr><td>==</td><td>égal à</td></tr><br>\n",
    "&nbsp;&nbsp;&nbsp;&nbsp;<tr><td>!=</td><td>différent de</td></tr> <br>\n",
    "&nbsp;&nbsp;&nbsp;&nbsp;<tr><td>$<$</td><td>strictement supérieur à</td></tr><br>\n",
    "&nbsp;&nbsp;&nbsp;&nbsp;<tr><td>$>$</td><td>strictement inférieur à</td></tr><br>\n",
    "&nbsp;&nbsp;&nbsp;&nbsp;<tr><td>$<=$</td><td>inférieur ou égal à</td></tr><br>\n",
    "&nbsp;&nbsp;&nbsp;&nbsp;<tr><td>$>=$</td><td>supérieur ou égal à</td></tr>        <br>\n",
    "</table><br>\n"
   ]
  },
  {
   "cell_type": "markdown",
   "id": "97fc7282",
   "metadata": {},
   "source": [
    "<p style=\"background-color:rgb(220,150,200);\"><strong>Attention</strong> à la différence entre = et ==  <br><br>\n",
    "Le symbole = est réservé pour l'affectation.<br><br>\n",
    "Le symbole == sert à comparer deux valeurs, plus précisément à savoir si deux valeurs sont égales. <br><br>\n",
    "Cette confusion est une importante source de bug chez les débutants en programmation.</p><br>\n"
   ]
  },
  {
   "cell_type": "markdown",
   "id": "981675a7",
   "metadata": {},
   "source": [
    "<div class=\"alert alert-info\"><strong>Exercice 3 : </strong> Ecrire un programme qui demande à l'utilisateur de saisir le mot de passe qui permet de se connecter au serveur de la NASA, et qui lui indique si l'accès est autorisé ou pas.<br><br>\n",
    "Le mot de passe est \"azerty\".  <br>\n",
    "</div><br>\n"
   ]
  },
  {
   "cell_type": "code",
   "execution_count": null,
   "id": "2678677a",
   "metadata": {},
   "outputs": [],
   "source": [
    "#ecris ici ton code"
   ]
  },
  {
   "cell_type": "markdown",
   "id": "079d3adc",
   "metadata": {},
   "source": [
    "<strong>Sttructure conditionnelle incomplète :</strong> <span style=\"font-weight: bold;font-style: italic;\">si ... alors...</span><br>\n",
    "<br>\n",
    "La clause <span style=\"font-family:Courier New;font-size: 100%;\">else</span> est facultative. On obtient alors la structure suivante :<br><br>\n",
    "<code>&nbsp;&nbsp;&nbsp;&nbsp;Bloc A<br>&nbsp;&nbsp;&nbsp;&nbsp;Si condition vraie faire :<br>&nbsp;&nbsp;&nbsp;&nbsp;&nbsp;&nbsp;&nbsp;&nbsp;Bloc B<br>&nbsp;&nbsp;&nbsp;&nbsp;Bloc C<br></code>Ainsi, si la condition est vraie, on effectuera les blocs A-B-C.<br><br>\n",
    "Si la condition n'est pas vraie, on effectuera les blocs A-C<br>\n"
   ]
  },
  {
   "cell_type": "markdown",
   "id": "ac8f67a9",
   "metadata": {},
   "source": [
    "<div class=\"alert alert-info\"><strong>Exercice 4 : </strong> Réécrire le programme qui affiche la plus grande des deux valeurs saisies par l'utilisateur, mais cette fois sans utiliser la clause <code>else</code>. </div><br>"
   ]
  },
  {
   "cell_type": "code",
   "execution_count": null,
   "id": "2ee281d6",
   "metadata": {},
   "outputs": [],
   "source": [
    "#ecris ton code"
   ]
  },
  {
   "cell_type": "markdown",
   "id": "be130507",
   "metadata": {},
   "source": [
    "<h2 style=\"text-decoration:underline;\" id=\"partie1\">2- Les booléens</h2><br><br><br>\n"
   ]
  },
  {
   "cell_type": "markdown",
   "id": "ec0ad210",
   "metadata": {},
   "source": [
    "<p>Comme on peut le voir en exécutant les trois cellules ci-dessous, des expressions comme <code>7&gt;4</code> ou <code>8&lt;2</code> ont une valeur d'un nouveau type appelé le type <strong>booléen</strong>.</p><p><span style=\"background-color:yellow; border:solid;padding:2px\">Une variable booléenne ne peut prendre que deux valeurs : <strong>True</strong> ou <strong>False</strong></span></p><br><p>True signifie \"Vrai\", False signifie \"Faux\".</p><br><p style=\"text-align:justify;\">Le mot \"booléen\" provient de George Boole (1815-1864), un mathématicien et logicien anglais qui a créé l'algèbre binaire, aujourd'hui appelée algèbre booléenne. Cette algèbre booléenne permet de traduire des raisonements logiques par des calculs algébriques.</p> <br>"
   ]
  },
  {
   "cell_type": "code",
   "execution_count": null,
   "id": "add0ab68",
   "metadata": {},
   "outputs": [],
   "source": [
    "#execute le code suivant\n",
    "7>4\n",
    "a=7>4\n",
    "print(a)\n",
    "type(a)\n",
    "\n",
    "#recommence avec 8<2"
   ]
  },
  {
   "cell_type": "markdown",
   "id": "3ef7b356",
   "metadata": {},
   "source": [
    "<div class=\"alert alert-info\"><strong>Exercice 5 : </strong> Déterminer pour chaque ligne le type et la valeur de chacune des variables ou expressions ci-dessous.<br><br>\n",
    "&nbsp;&nbsp;&nbsp;&nbsp;On suppose que les lignes sont exécutées l'une après l'autre.<br><br>\n",
    "<code>x = 18<br>x > 7<br>x == 6<br>x > 7<br>x = 6<br>x > 7<br>x == 6<br></code>    </div>    <br>\n"
   ]
  },
  {
   "cell_type": "markdown",
   "id": "34fbafd4",
   "metadata": {},
   "source": [
    "<div class=\"alert alert-info\"><strong>Exercice 6 : </strong> Qu'affiche le code suivant ? <br>\n",
    "<p style=\"border:solid;\"><br>\n",
    "&nbsp;&nbsp;&nbsp;&nbsp;<code>b = 5<br>a = (b == 3)<br>print(a)</code>&nbsp;&nbsp;&nbsp;&nbsp;</p><br>\n",
    "</div><br>\n"
   ]
  },
  {
   "cell_type": "code",
   "execution_count": null,
   "id": "66941486",
   "metadata": {},
   "outputs": [],
   "source": [
    "#ecris le code python"
   ]
  },
  {
   "cell_type": "markdown",
   "id": "9d8dfa47",
   "metadata": {},
   "source": [
    "Les booléens (ou variables booléennes) sont utilisés dans les conditions. En fait, l'expression qui suit le <span style=\"font-family:Courier New;font-size: 100%;\">if</span> doit toujours être une valeur ou une variable de type booléen :<br>\n"
   ]
  },
  {
   "cell_type": "code",
   "execution_count": null,
   "id": "2649143d",
   "metadata": {},
   "outputs": [],
   "source": [
    "majeur = True    # ou False\n",
    "if majeur == True:\n",
    "    print(\"Vous êtes majeur.\")\n",
    "else:\n",
    "    print(\"Vous êtes mineur\")"
   ]
  },
  {
   "cell_type": "markdown",
   "id": "8d3f9ae0",
   "metadata": {},
   "source": [
    "<strong>Syntaxe raccourcie des conditions</strong><br><br>\n",
    "Dans le programme précédent, <span style=\"font-family:Courier New;font-size: 100%;\">majeur == True</span> est en fait un booléen qui vaut <span style=\"font-family:Courier New;font-size: 100%;\">True</span> ou <span style=\"font-family:Courier New;font-size: 100%;\">False</span> selon la valeur de la variable <span style=\"font-family:Courier New;font-size: 100%;\">majeur</span>.<br><br>\n",
    "Ainsi, les booléens permettent une syntaxe raccourcie et plus lisible lorsqu'on écrit des conditions : <br><br>\n",
    "Au lieu d'écrire <span style=\"font-family:Courier New;font-size: 100%;\">if majeur == True:</span><br> on peut écrire : <span style=\"font-family:Courier New;font-size: 100%;\">if majeur:</span><br><br>\n",
    "Il est préférable d'utiliser cette syntaxe raccourcie.<br>\n"
   ]
  },
  {
   "cell_type": "code",
   "execution_count": null,
   "id": "501babaa",
   "metadata": {},
   "outputs": [],
   "source": [
    "majeur = True    # ou False\n",
    "if majeur:\n",
    "    print(\"Vous êtes majeur.\")\n",
    "else:\n",
    "    print(\"Vous êtes mineur\")"
   ]
  },
  {
   "cell_type": "markdown",
   "id": "3e7e9fcd",
   "metadata": {},
   "source": [
    "<div class=\"alert alert-info\"><strong>Exercice 7 : </strong> Ecrire un programme qui :<br>\n",
    "&nbsp;&nbsp;&nbsp;&nbsp;<ol><br>\n",
    "&nbsp;&nbsp;&nbsp;&nbsp;&nbsp;&nbsp;&nbsp;&nbsp;<li><br>\n",
    "&nbsp;&nbsp;&nbsp;&nbsp;&nbsp;&nbsp;&nbsp;&nbsp;&nbsp;&nbsp;&nbsp;&nbsp;Demande à l'utilisateur sa taille en cm<br>\n",
    "&nbsp;&nbsp;&nbsp;&nbsp;&nbsp;&nbsp;&nbsp;&nbsp;</li><br>\n",
    "&nbsp;&nbsp;&nbsp;&nbsp;&nbsp;&nbsp;&nbsp;&nbsp;<li><br>\n",
    "&nbsp;&nbsp;&nbsp;&nbsp;&nbsp;&nbsp;&nbsp;&nbsp;&nbsp;&nbsp;&nbsp;&nbsp;Crée une variable booléenne appelée \"grand\" dont la valeur dépend de la taille saisie<br>\n",
    "&nbsp;&nbsp;&nbsp;&nbsp;&nbsp;&nbsp;&nbsp;&nbsp;</li><br>\n",
    "&nbsp;&nbsp;&nbsp;&nbsp;&nbsp;&nbsp;&nbsp;&nbsp;<li><br>\n",
    "&nbsp;&nbsp;&nbsp;&nbsp;&nbsp;&nbsp;&nbsp;&nbsp;&nbsp;&nbsp;&nbsp;&nbsp;Affiche un message différent selon que l'utilisateur est grand ou pas<br><br>\n",
    "&nbsp;&nbsp;&nbsp;&nbsp;&nbsp;&nbsp;&nbsp;&nbsp;&nbsp;&nbsp;&nbsp;&nbsp;Par exemple : \"Vous avez le droit (ou pas le droit) de monter dans ce manège.\"</li><br>\n",
    "&nbsp;&nbsp;&nbsp;&nbsp;</ol><br>\n",
    "</div><br>\n"
   ]
  },
  {
   "cell_type": "code",
   "execution_count": null,
   "id": "52bc0cd4",
   "metadata": {},
   "outputs": [],
   "source": [
    "#ecris ton code"
   ]
  },
  {
   "cell_type": "markdown",
   "id": "24529188",
   "metadata": {},
   "source": [
    "<h2 style=\"text-decoration:underline;\" id=\"partie3\">3- Les conditions multiples</h2><br>\n"
   ]
  }
 ],
 "metadata": {
  "kernelspec": {
   "display_name": "Python 3 (ipykernel)",
   "language": "python",
   "name": "python3"
  },
  "language_info": {
   "codemirror_mode": {
    "name": "ipython",
    "version": 3
   },
   "file_extension": ".py",
   "mimetype": "text/x-python",
   "name": "python",
   "nbconvert_exporter": "python",
   "pygments_lexer": "ipython3",
   "version": "3.9.12"
  }
 },
 "nbformat": 4,
 "nbformat_minor": 5
}
