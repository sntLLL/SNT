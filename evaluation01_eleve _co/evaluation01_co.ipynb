{
 "cells": [
  {
   "cell_type": "code",
   "execution_count": 1,
   "id": "6217b4e6",
   "metadata": {},
   "outputs": [],
   "source": [
    "from outils import* # outils nécessaires au notebook"
   ]
  },
  {
   "cell_type": "markdown",
   "id": "f5404d65",
   "metadata": {},
   "source": [
    "# <span style=\"text-decoration: underline;color:red;\"> Bases du langage Python : évaluation 01 du lundi 17/X/2022</span> #\n",
    "![alt text](mes_images/logo_python.png \"logo du langage Python\")<br>\n",
    "Activer la cellule de code ci-dessous et répondre à la question en saisissant son nom puis son prénom.<br>\n"
   ]
  },
  {
   "cell_type": "code",
   "execution_count": 2,
   "id": "5280c0a1",
   "metadata": {},
   "outputs": [
    {
     "name": "stdout",
     "output_type": "stream",
     "text": [
      "Donner le nom de l'élève évalué : Elements de correction\n",
      "Donner le prénom de l'élève évalué : par L. Le Loarer\n"
     ]
    }
   ],
   "source": [
    "nom1=input(\"Donner le nom de l'élève évalué : \")\n",
    "prenom1=input(\"Donner le prénom de l'élève évalué : \")"
   ]
  },
  {
   "cell_type": "markdown",
   "id": "0fccef05",
   "metadata": {},
   "source": [
    "<div class=\"alert alert-info\"><strong>Exercice 1 : </strong> <br>\n",
    "On souhaite répartir 27 paquets de bonbons entre 6 personnes, les paquets restants seront ouverts et placés dans le pot commun.<br>\n",
    "1) Combien de paquets entiers auront chacune des six personnes ?<br>\n",
    "2) Combien de paquets restants seront ouverts pour le pot commun ?<br>\n",
    "Compléter les lignes de code ci-dessous pour répondre aux deux questions et exécute la cellule</div><br>\n"
   ]
  },
  {
   "cell_type": "code",
   "execution_count": 3,
   "id": "0db415d8",
   "metadata": {},
   "outputs": [
    {
     "name": "stdout",
     "output_type": "stream",
     "text": [
      "Chaque personne recevra 4  paquets entiers et  3  paquets seront pour le pot commun.\n"
     ]
    }
   ],
   "source": [
    "nb_entier = 27//6      # ecris après le égal l'opération qui permet de calculer nb_entier\n",
    "nb_restant = 27%6     # écris après le égal l'opération qui permet de calculer nb_restant.\n",
    "print(\"Chaque personne recevra\", nb_entier,\" paquets entiers et \",nb_restant,\" paquets seront pour le pot commun.\")"
   ]
  },
  {
   "cell_type": "markdown",
   "id": "2c354764",
   "metadata": {},
   "source": [
    "<div class=\"alert alert-info\"><strong>Exercice 2 : </strong><br>\n",
    "Ecris une instruction qui calcule et affiche la valeur de $N=2^{22}$.<br>\n",
    "</div><br>\n"
   ]
  },
  {
   "cell_type": "code",
   "execution_count": 4,
   "id": "960b5003",
   "metadata": {},
   "outputs": [
    {
     "name": "stdout",
     "output_type": "stream",
     "text": [
      "2 puissance 22 est égal à :  4194304\n"
     ]
    }
   ],
   "source": [
    "#écris ci-dessous le code qui permet de calculer \"2 puissance 22\" et qui affiche le résultat de ce calcul\n",
    "N = 2**22\n",
    "print(\"2 puissance 22 est égal à : \",N)"
   ]
  },
  {
   "cell_type": "markdown",
   "id": "7a76a41f",
   "metadata": {},
   "source": [
    "<div class=\"alert alert-info\"><strong>Exercice 3 : </strong><br>\n",
    "On souhaite effectuer le calcul du volume d'une boule de rayon $\\mathcal{R}=5 cm$ à l'aide de Python. On rappelle que le volume d'une boule est donné par la formule $V=\\frac{4}{3}\\pi\\mathcal{R}^{3}$. On prendra comme valeur approchée $\\pi≈3.14$<br>\n",
    "</div><br>\n"
   ]
  },
  {
   "cell_type": "code",
   "execution_count": 5,
   "id": "51978bf4",
   "metadata": {},
   "outputs": [
    {
     "name": "stdout",
     "output_type": "stream",
     "text": [
      "Le volume d'une boule de rayon  5  cm est environ  523.3333333333334  cm3\n"
     ]
    }
   ],
   "source": [
    "#complète les deux premières lignes de code et exécute la cellule.\n",
    "rayon = 5\n",
    "volume = (4/3)*3.14*5**3\n",
    "print(\"Le volume d'une boule de rayon \",rayon,\" cm est environ \",volume,\" cm3\")"
   ]
  },
  {
   "cell_type": "markdown",
   "id": "930a9aca",
   "metadata": {},
   "source": [
    "<div class=\"alert alert-info\"><strong>Exercice 4 : </strong> <br>\n",
    "On souhaite savoir combien déquipes de 11 joueurs il est possible de faire avec 148 personnes. Les personnes restantes officieront en tant qu'arbitre.<br>\n",
    "Il y a 6 terrains possibles. Y aura-t-il un arbitre par terrain ? <br>\n",
    "L'exécution du code ci-dessous entraîne un message d'erreur : tu dois le vérifier en exécutant la cellule et lire le message d'erreur qui te donnera un indice pour la résolution du problème.<br>\n",
    "Complète alors les lignes indiquées pour lever l'erreur et pour afficher le nombre d'équipes et le nombre d'arbitres. Active alors la cellule.<br>\n",
    "</div><br>\n"
   ]
  },
  {
   "cell_type": "code",
   "execution_count": 7,
   "id": "4bf8d00a",
   "metadata": {},
   "outputs": [
    {
     "name": "stdout",
     "output_type": "stream",
     "text": [
      "Donner le nombre total de joueurs : 148\n",
      "il y aura  13  équipes de 11 joueurs et  5 arbitres.\n",
      "il manque des arbitres\n"
     ]
    }
   ],
   "source": [
    "nb_joueurs = input(\"Donner le nombre total de joueurs : \")\n",
    "nb_joueurs = int(nb_joueurs)            #ecris au début de cette ligne l'instruction qui lève l'erreur\n",
    "nb_equipes = nb_joueurs // 11\n",
    "nb_arbitres = nb_joueurs % 11\n",
    "#ecris ci-dessus les instructions qui affichent le nombres d'équipes et le nombre d'arbitres.\n",
    "print(\"il y aura \",nb_equipes,\" équipes de 11 joueurs et \",nb_arbitres, \"arbitres.\")\n",
    "#facultatif : ecrire un test qui permet de savoir si le nombre d'arbitres est suffisant\n",
    "if nb_arbitres >=6:\n",
    "    print(\"il y a assez d'arbitres !\")\n",
    "else:\n",
    "    print(\"il manque des arbitres\" )"
   ]
  },
  {
   "cell_type": "markdown",
   "id": "fdb0ffdf",
   "metadata": {},
   "source": [
    "<div class=\"alert alert-info\"><strong>Exercice 5 : </strong> <br>\n",
    "Un manga coûte 7,80 €, une BD  8,40 €.<br>\n",
    "Ecrire un algorithme qui demande le nombre de mangas et de BD à l'utilisateur et qui renvoie un message<br>\n",
    "donnant le prix à payer avec un affichage donnant le détail ainsi : <br>\n",
    "manga   : prix1<br>\n",
    "BD      :prix2<br>\n",
    "total   : prix_tot<br>\n",
    "</div><br>\n"
   ]
  },
  {
   "cell_type": "code",
   "execution_count": 10,
   "id": "cfd148ec",
   "metadata": {},
   "outputs": [
    {
     "name": "stdout",
     "output_type": "stream",
     "text": [
      "donne le nombre de mangas achetés 4\n",
      "donne le nombre de BD achetées 5\n",
      "total pour les mangas :  31.2  euros\n",
      "total pour les BD     :  42.0  euros\n",
      "total global          :  73.2  euros\n"
     ]
    }
   ],
   "source": [
    "# ecrire ici le code\n",
    "nb_mangas = input (\"donne le nombre de mangas achetés \")\n",
    "nb_mangas = int(nb_mangas)    # ne pas oublier de reconvertir la saisie en nombre entier\n",
    "nb_bd = input (\"donne le nombre de BD achetées \")\n",
    "nb_bd = int(nb_bd)            # ne pas oublier de reconvertir la saisie en nombre entier\n",
    "prix1 = 7.80 * nb_mangas      # les décimaux sont écrits avec un point et non pas une virgule\n",
    "prix2 = 8.40 * nb_bd\n",
    "print(\"total pour les mangas : \",prix1,\" euros\")\n",
    "print(\"total pour les BD     : \",prix2, \" euros\")\n",
    "print(\"total global          : \",prix1 + prix2,\" euros\")\n"
   ]
  },
  {
   "cell_type": "markdown",
   "id": "bfd12416",
   "metadata": {},
   "source": [
    "Sauvegarder ce notebook dans ses documents personnels et en placer une copie dans restitution de devoirs<br>\n",
    "en le nommant <strong>evaluation01_nom_prenom.ipynb</strong><br>\n",
    "<br>\n",
    "<br>\n",
    "<br>\n",
    "<br>\n",
    "&nbsp;<br>\n"
   ]
  }
 ],
 "metadata": {
  "kernelspec": {
   "display_name": "Python 3 (ipykernel)",
   "language": "python",
   "name": "python3"
  },
  "language_info": {
   "codemirror_mode": {
    "name": "ipython",
    "version": 3
   },
   "file_extension": ".py",
   "mimetype": "text/x-python",
   "name": "python",
   "nbconvert_exporter": "python",
   "pygments_lexer": "ipython3",
   "version": "3.9.12"
  }
 },
 "nbformat": 4,
 "nbformat_minor": 5
}
