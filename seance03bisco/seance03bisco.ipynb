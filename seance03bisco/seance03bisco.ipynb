{
 "cells": [
  {
   "cell_type": "code",
   "execution_count": 15,
   "id": "96a77428",
   "metadata": {},
   "outputs": [],
   "source": [
    "from outils import* # outils nécessaires au notebook"
   ]
  },
  {
   "cell_type": "markdown",
   "id": "530106d1",
   "metadata": {},
   "source": [
    "# <span style=\"text-decoration: underline;color:red;\"> Conditions, tests et booléens </span> #\n",
    "![alt text](mes_images/logo_python.png \"logo du langage Python\")<br>\n",
    "\n",
    "# <span style=\"color:skyblue;\"> Sommaire </span> #\n",
    "## <span style=\"color:skyblue;\"> 1 Les conditions </span> ##\n",
    "## <span style=\"color:skyblue;\">2 Les booléens </span> ##\n",
    "## <span style=\"color:skyblue;\">3 Les conditions multiples </span> ##\n",
    "<br>\n",
    "&nbsp;<br>\n"
   ]
  },
  {
   "cell_type": "markdown",
   "id": "6e8f5e29",
   "metadata": {},
   "source": [
    "<h2 style=\"text-decoration:underline;\" id=\"partie3\">3- Les conditions multiples</h2><br>\n",
    "On a parfois besoin de tester plusieurs conditions successivement comme dans l'exemple suivant.<br>\n",
    "<br>\n",
    "<strong>Le problème du pass sanitaire</strong><br>\n",
    "On demande à une personne si elle est vaccinée et si elle a un test PCR négatif.<br><br>\n",
    "Si elle est vaccinée, elle peut entrer.<br><br>\n",
    "Sinon, elle ne peut entrer que si elle a un test PCR négatif.<br><br>\n"
   ]
  },
  {
   "cell_type": "code",
   "execution_count": 18,
   "id": "79268d4b",
   "metadata": {},
   "outputs": [
    {
     "name": "stdout",
     "output_type": "stream",
     "text": [
      "Etes-vous vacciné (O/N)?n\n",
      "Avez-vous un test PCR négatif (O/N)?df\n",
      "Vous ne pouvez pas entrer!\n"
     ]
    }
   ],
   "source": [
    "rep_vacc = input(\"Etes-vous vacciné (O/N)?\") #on demande si l'utilisateur est vacciné\n",
    "vaccine = (rep_vacc == 'O' or rep_vacc == 'o') # on affecte à la variable vaccine le résultat du test : True ou bien False\n",
    "rep_test = input(\"Avez-vous un test PCR négatif (O/N)?\") # on demande à l'utilisateur le résultat de son test pcr \n",
    "testNegatif = (rep_test == 'O' or rep_test == 'o') # on affecte à la variable testNegatif le résultat du test True ou bien False          \n",
    "if vaccine:\n",
    "    print(\"Vous pouvez entrer...\")\n",
    "else:\n",
    "    if testNegatif:\n",
    "          print(\"Vous pouvez entrer!\")\n",
    "    else:\n",
    "          print(\"Vous ne pouvez pas entrer!\")"
   ]
  },
  {
   "cell_type": "markdown",
   "id": "0b0a2de9",
   "metadata": {},
   "source": [
    "Le défaut de ce programme est qu'il est assez difficile à lire.<br>\n",
    "En Python, on dispose d'une syntaxe plus lègère qui permet de clarifier un peu le programme : on peut condenser le else if en une seule ligne elif.<br>\n",
    "Le programme ci-dessous fait exactement la même chose que le précédent mais nécessite une ligne de moins et fait moins appel à l'indentation dans les deux dernières lignes :<br>\n"
   ]
  },
  {
   "cell_type": "code",
   "execution_count": 19,
   "id": "0f3a192e",
   "metadata": {},
   "outputs": [
    {
     "name": "stdout",
     "output_type": "stream",
     "text": [
      "Etes-vous vacciné (O/N)?m\n",
      "Avez-vous un test PCR négatif (O/N)?l\n",
      "Vous ne pouvez pas entrer!\n"
     ]
    }
   ],
   "source": [
    "rep_vacc = input(\"Etes-vous vacciné (O/N)?\") #on demande si l'utilisateur est vacciné\n",
    "vaccine = (rep_vacc == 'O' or rep_vacc == 'o') # on affecte à la variable vacciné le résultat du test True ou bien False\n",
    "rep_test = input(\"Avez-vous un test PCR négatif (O/N)?\") # on demande à l'utilisateur le résultat de son test pcr \n",
    "testNegatif = (rep_test == 'O' or rep_test == 'o') # on affecte à la variable testNegatif le résultat du test True ou bien False   \n",
    "          \n",
    "if vaccine:\n",
    "    print(\"Vous pouvez entrer...\")\n",
    "elif testNegatif:\n",
    "    print(\"Vous pouvez entrer!\")\n",
    "else:\n",
    "    print(\"Vous ne pouvez pas entrer!\")"
   ]
  },
  {
   "cell_type": "markdown",
   "id": "da4fe20d",
   "metadata": {},
   "source": [
    "<div class=\"alert alert-info\"><strong>Exercice 8 : </strong> Ecrire un programme qui demande à l'utilisateur sa moyenne du bac et qui lui indique sa mention.<br>\n",
    "<table><br>\n",
    "&nbsp;&nbsp;&nbsp;&nbsp;<tr><br>\n",
    "&nbsp;&nbsp;&nbsp;&nbsp;&nbsp;&nbsp;&nbsp;&nbsp;<td style=\"border:1px solid\"><strong>Moyenne</strong></td><td style=\"border:1px solid; text-align: center\">$[0;8[$</td><td style=\"border:1px solid; text-align: center\">$[8;10[$</td><td style=\"border:1px solid; text-align: center\">$[10;12[$</td><br>\n",
    "&nbsp;&nbsp;&nbsp;&nbsp;&nbsp;&nbsp;&nbsp;&nbsp;<td style=\"border:1px solid; text-align: center\">$[12;14[$</td><td style=\"border:1px solid; text-align: center\">$[14;16[$</td><td style=\"border:1px solid; text-align: center\">$[16;18[$</td><td style=\"border:1px solid; text-align: center\">$[18;20]$</td><br>\n",
    "&nbsp;&nbsp;&nbsp;&nbsp;</tr><br>\n",
    "&nbsp;&nbsp;&nbsp;&nbsp;<tr><br>\n",
    "&nbsp;&nbsp;&nbsp;&nbsp;&nbsp;&nbsp;&nbsp;&nbsp;<td style=\"border:1px solid\"><strong>Mention</strong></td><td style=\"border:1px solid;text-align: center\">Recalé</td><td style=\"border:1px solid;text-align: center\">Rattrapage</td><td style=\"border:1px solid; text-align: center\">Sans mention</td><td style=\"border:1px solid; text-align: center\">Assez bien</td><br>\n",
    "&nbsp;&nbsp;&nbsp;&nbsp;&nbsp;&nbsp;&nbsp;&nbsp;<td style=\"border:1px solid; text-align: center\">Bien</td><td style=\"border:1px solid;text-align: center\">Très bien</td><td style=\"border:1px solid; text-align: center\">Félicitations</td><br>\n",
    "&nbsp;&nbsp;&nbsp;&nbsp;</tr><br>\n",
    "</table><br>\n",
    "</div><br>\n"
   ]
  },
  {
   "cell_type": "code",
   "execution_count": 4,
   "id": "bc2566e6",
   "metadata": {},
   "outputs": [
    {
     "name": "stdout",
     "output_type": "stream",
     "text": [
      "Donner la moyenne obtenue au bac : 17\n",
      " admis mentionTrès Bien (TB) \n"
     ]
    }
   ],
   "source": [
    "#ecris ton code ici\n",
    "moy = input(\"Donner la moyenne obtenue au bac : \") # on demande à l'utilisateur de saisir lamoyenne obtenue\n",
    "moy = float(moy)   # on convertit la saisie en nombre décimal (float)\n",
    "if moy < 8 :\n",
    "    print(\" Recalé ! :(  \")\n",
    "elif moy < 10 :\n",
    "    print (\" Rattrapage  \")\n",
    "elif moy < 12 :\n",
    "    print(\"Admis sans mention\")\n",
    "elif moy < 14 :\n",
    "    print( \" admis mention Assez Bien (AB) \")\n",
    "elif moy < 16 :\n",
    "    print( \" admis mention Bien (B)\")\n",
    "elif moy < 18:\n",
    "    print( \" admis mentionTrès Bien (TB) \")\n",
    "else :\n",
    "    print ( \"Féliciatations !!!\")"
   ]
  },
  {
   "cell_type": "markdown",
   "id": "2921aa1f",
   "metadata": {},
   "source": [
    "<div class=\"alert alert-info\"><strong>Exercice 9 : </strong> Ecrire un programme qui demande une année à l'utilisateur et indique s'il s'agit d'une année bissextile.<br><br>\n",
    "Une année est bissextile si elle est multiple de 4 mais pas multiple de 100, ou si elle est multiple de 400.<br><br>\n",
    "Tester ensuite votre programme avec les années 2021, 2020, 1900 et 2000.<br>\n",
    "</div><br>\n"
   ]
  },
  {
   "cell_type": "code",
   "execution_count": 24,
   "id": "4a03c0c1",
   "metadata": {},
   "outputs": [
    {
     "name": "stdout",
     "output_type": "stream",
     "text": [
      "Veuillez saisir une année : 2022\n",
      "l'année  2022  n'est pas une année bissextile.\n"
     ]
    }
   ],
   "source": [
    "annee = input(\"Veuillez saisir une année : \")\n",
    "annee = int(annee) #on convertit la saisie de l'année en nomnbre entier\n",
    "\n",
    "if ((annee % 4 == 0) and annee % 100 != 0):\n",
    "    \n",
    "    print(\"l'année \",annee, \" est une année bissextile.\")\n",
    "elif annee % 100 == 0 and annee % 400 ==0:\n",
    "    print(\"l'année \",annee, \" est une année bissextile.\")\n",
    "else :\n",
    "    print(\"l'année \",annee, \" n'est pas une année bissextile.\" )"
   ]
  },
  {
   "cell_type": "markdown",
   "id": "92fb1a6b",
   "metadata": {},
   "source": [
    "<strong>Les opérateurs booléens</strong><br>\n",
    "On peut combiner plusieurs expressions booléennes avec les opérateurs <code>and</code>, <code>or</code> et <code>not</code>.Dans le cadre des instructions conditionnelles, ces opérateurs permettent d'éviter de recourir à des conditions imbriquées.<br>"
   ]
  },
  {
   "cell_type": "markdown",
   "id": "8f7d3351",
   "metadata": {},
   "source": [
    "<table><br>\n",
    "&nbsp;&nbsp;&nbsp;&nbsp;<tr><th style=\"border:1px solid #000000; text-align: center;\">Mot-clé</th><th style=\"border:1px solid #000000; text-align: center;\">En Français</th><th style=\"border:1px solid #000000; text-align: center;\">Nom</th><th style=\"border:1px solid #000000; text-align: center;\">Description</th></tr><br>\n",
    "&nbsp;&nbsp;&nbsp;&nbsp;<tr><td style=\"border:1px solid #000000; text-align: center;\"><code>and</code></td><td style=\"border:1px solid #000000; text-align: center;\">et</td><td style=\"border:1px solid #000000; text-align: center;\">conjonction</td><td style=\"border:1px solid #000000; text-align: center;\"><code>c1 and c2</code> est vraie lorsque $c_1$ et $c_2$ sont toutes les deux vraies</td></tr>&nbsp;&nbsp;&nbsp;&nbsp;<tr><td style=\"border:1px solid #000000; text-align: center;\"><code>or</code></td><td style=\"border:1px solid #000000; text-align: center;\">ou</td><td style=\"border:1px solid #000000; text-align: center;\">disjonction</td><td style=\"border:1px solid #000000; text-align: center;\"><code>c1 or c2</code> est vraie lorsqu'au moins une des deux conditions $c_1$ ou $c_2$ est vraie</td></tr>&nbsp;&nbsp;&nbsp;&nbsp;<tr><td style=\"border:1px solid #000000; text-align: center;\"><code>not</code></td><td style=\"border:1px solid #000000; text-align: center;\">non</td><td style=\"border:1px solid #000000; text-align: center;\">négation</td><td style=\"border:1px solid #000000; text-align: center;\"><code>not c</code> est vraie lorsque $c$ est fausse</td></tr>  </table><br><br>Voici la <strong>table de vérité</strong> de ces trois opérateurs :<br><br><table><br>&nbsp;&nbsp;&nbsp;&nbsp;<tr><th style=\"border:1px solid \\#000000; text-align: center;\">$c\\_1$</th><th style=\"border:1px solid \\#000000; text-align: center;\">$c\\_2$</th><th style=\"border:1px solid \\#000000; text-align: center;\">$c\\_1$ and $c\\_2$</th><th style=\"border:1px solid \\#000000; text-align: center;\">$c\\_1$ or $c\\_2$</th><th style=\"border:1px solid \\#000000; text-align: center;\">not $c\\_1$</th></tr><br>&nbsp;&nbsp;&nbsp;&nbsp;<tr><td style=\"border:1px solid \\#000000; text-align: center;\">Vrai</td><td style=\"border:1px solid \\#000000; text-align: center;\">Vrai</td><td style=\"border:1px solid \\#000000; text-align: center;\">Vrai</td><td style=\"border:1px solid \\#000000; text-align: center;\">Vrai</td><td style=\"border:1px solid \\#000000; text-align: center;\">Faux</td></tr><br>&nbsp;&nbsp;&nbsp;&nbsp;<tr><td style=\"border:1px solid #000000; text-align: center;\"><code>Vrai</code></td><td style=\"border:1px solid #000000; text-align: center;\">Faux</td><td style=\"border:1px solid #000000; text-align: center;\">Faux</td><td style=\"border:1px solid #000000; text-align: center;\">Vrai</td><td style=\"border:1px solid #000000; text-align: center;\">Faux</td></tr>&nbsp;&nbsp;&nbsp;&nbsp;<tr><td style=\"border:1px solid \\#000000; text-align: center;\">Faux</td><td style=\"border:1px solid \\#000000; text-align: center;\">Vrai</td><td style=\"border:1px solid \\#000000; text-align: center;\">Faux</td><td style=\"border:1px solid \\#000000; text-align: center;\">Vrai</td><td style=\"border:1px solid \\#000000; text-align: center;\">Vrai</td></tr> <br>&nbsp;&nbsp;&nbsp;&nbsp;<tr><td style=\"border:1px solid \\#000000; text-align: center;\">Faux</td><td style=\"border:1px solid \\#000000; text-align: center;\">Faux</td><td style=\"border:1px solid \\#000000; text-align: center;\">Faux</td><td style=\"border:1px solid \\#000000; text-align: center;\">Faux</td><td style=\"border:1px solid \\#000000; text-align: center;\">Vrai</td></tr> <br></table><br><br><span style=\"text-decoration:underline;\">Remarque</span> : Python autorise ici une syntaxe plus courte que ne permettent pas les autres langages.<br>Pour tester si un nombre est compris entre 3 et 7, on peut écrire <code>3 &lt; x &lt; 7</code> au lieu de <code>3 &lt; x and x &lt; 7</code>."
   ]
  },
  {
   "cell_type": "markdown",
   "id": "d94f6931",
   "metadata": {},
   "source": [
    "<strong>Nouvelle résolution du problème du pass sanitaire</strong> Avec les booléens, on peut résoudre le problème du pass sanitaire de façon plus élégante, <br>\n",
    "plus claire et plus courte qu'avec des condtions imbriquées :<br>\n"
   ]
  },
  {
   "cell_type": "code",
   "execution_count": 28,
   "id": "f0b13be0",
   "metadata": {},
   "outputs": [
    {
     "name": "stdout",
     "output_type": "stream",
     "text": [
      "Etes-vous vacciné (O/N)?n\n",
      "Avez-vous un test PCR négatif (O/N)?n\n",
      " Tu ne peux pas entrer\n"
     ]
    }
   ],
   "source": [
    "rep_vacc = input(\"Etes-vous vacciné (O/N)?\") #on demande si l'utilisateur est vacciné\n",
    "vaccine = (rep_vacc == 'O' or rep_vacc == 'o') # on affecte à la variable vacciné le résultat du test True ou bien False\n",
    "rep_test = input(\"Avez-vous un test PCR négatif (O/N)?\") # on demande à l'utilisateur le résultat de son test pcr \n",
    "testNegatif = (rep_test == 'O' or rep_test == 'o') # on affecte à la variable testNegatif le résultat du test True ou bien False   \n",
    "          \n",
    "#ecrire ici la suite du test un if et un else seulement\n",
    "if vaccine or testNegatif : \n",
    "    print(\"Tu peux entrer \")\n",
    "else : \n",
    "    print (\" Tu ne peux pas entrer\")"
   ]
  },
  {
   "cell_type": "markdown",
   "id": "2a0a9b8f",
   "metadata": {},
   "source": [
    "<div class=\"alert alert-info\"><strong>Exercice 10 : </strong> Reprendre le problème des années bissextiles (exercice 9) en utilisant des opérateurs booléens à la place des conditions imbriquées.<br>\n",
    "Une année est bissextile si elle est multiple de 4 mais pas multiple de 100, ou si elle est multiple de 400.<br>\n",
    "Tester ensuite votre programme avec les années 2021, 2020, 1900 et 2000.<br>\n",
    "</div><br>\n"
   ]
  },
  {
   "cell_type": "code",
   "execution_count": null,
   "id": "3a0eacc5",
   "metadata": {},
   "outputs": [],
   "source": [
    "#ecris ton code ici un seul if et un else\n",
    "annee = input(\"Veuillez saisir une année : \")\n",
    "annee = int(annee) #on convertit la saisie de l'année en nomnbre entier\n",
    "\n",
    "mult4 = (annee % 4 ==0)\n",
    "mult400 = (annee % 400 == 0)\n",
    "mult100 = (annee % 100 == 0)\n",
    "\n",
    "if (mult4 and not( mult100 )) or mult400:\n",
    "     print(\"l'année \",annee, \" est une année bissextile.\")\n",
    "else:\n",
    "     print(\"l'année \",annee, \" n'est pas une année bissextile.\" )"
   ]
  },
  {
   "cell_type": "markdown",
   "id": "0d6e8b14",
   "metadata": {},
   "source": [
    "<div class=\"alert alert-info\"><strong>Exercice 11 : </strong> <br>\n",
    "1) Ecrire un programme qui dit si le triangle est isocèle ou bien équilatéral ou scalène<br>\n",
    "2) Ecrire un programme qui permet de dire si un triangle est rectangle <br>\n",
    "(on convient que l'hypoténuse est la première distance saisie par l'utilisateur)<br>\n",
    "3) Même question que la 2°) mais l'hypoténuse n'est pas forcément saisie en premier <br>\n",
    "<br>\n",
    "</div><br>\n"
   ]
  },
  {
   "cell_type": "code",
   "execution_count": null,
   "id": "237b8b92",
   "metadata": {},
   "outputs": [],
   "source": [
    "#question 1 : ecris ton code ici "
   ]
  },
  {
   "cell_type": "code",
   "execution_count": null,
   "id": "b3e43171",
   "metadata": {},
   "outputs": [],
   "source": [
    "#question 2 : ecris ton code ici"
   ]
  },
  {
   "cell_type": "code",
   "execution_count": null,
   "id": "3b92e585",
   "metadata": {},
   "outputs": [],
   "source": [
    "#question 3 : ecris ton code ici"
   ]
  }
 ],
 "metadata": {
  "kernelspec": {
   "display_name": "Python 3 (ipykernel)",
   "language": "python",
   "name": "python3"
  },
  "language_info": {
   "codemirror_mode": {
    "name": "ipython",
    "version": 3
   },
   "file_extension": ".py",
   "mimetype": "text/x-python",
   "name": "python",
   "nbconvert_exporter": "python",
   "pygments_lexer": "ipython3",
   "version": "3.9.12"
  }
 },
 "nbformat": 4,
 "nbformat_minor": 5
}
