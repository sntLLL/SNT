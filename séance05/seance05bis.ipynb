{
 "cells": [
  {
   "cell_type": "code",
   "execution_count": null,
   "metadata": {},
   "outputs": [],
   "source": [
    "from outils import* # outils nécessaires au notebook"
   ]
  },
  {
   "cell_type": "markdown",
   "metadata": {},
   "source": [
    "# <span style=\"text-decoration: underline;color:red;\"> Les boucles tant que :</span> l'instruction    <code>while</code> (suite)\n"
   ]
  },
  {
   "cell_type": "markdown",
   "metadata": {},
   "source": [
    "![alt text](mes_images/logo_python.png \"logo du langage Python\")<br>\n"
   ]
  },
  {
   "cell_type": "code",
   "execution_count": null,
   "metadata": {},
   "outputs": [],
   "source": [
    "for i in range(5):\n",
    "    print(\"Coucou\")\n",
    "print(\"Au revoir !\")"
   ]
  },
  {
   "cell_type": "code",
   "execution_count": null,
   "metadata": {},
   "outputs": [],
   "source": [
    "i = 0\n",
    "while i < 5:\n",
    "    print(\"Coucou\")\n",
    "    i = i + 1\n",
    "print(\"Au revoir !\")\n"
   ]
  },
  {
   "cell_type": "markdown",
   "metadata": {},
   "source": [
    "<p style=\"text-align:justify;\">Comme on le voit, l'utilisation de la boucle <code>while</code> nécessite d'écrire deux lignes de plus car il faut gérer soi-même la variable de boucle (son initialisation et son incérmentation).<br>\n",
    "Lorsque cela est possible (c'est-à-dire si le nombre de tours est connu à l'avance), il est donc préférable d'utiliser une boucle <code>for</code> pour améliorer la lisibilité du code.</p>\n",
    "\n",
    "<div class=\"alert alert-info\"><strong>Exercice 1 </strong>: Réécrire le programme ci-dessous avec une boucle while.\n",
    "<code>\n",
    "somme = 0\n",
    "for i in range(10):\n",
    "    somme = somme + i\n",
    "print(somme) \n",
    "</code>\n",
    "</div>"
   ]
  },
  {
   "cell_type": "code",
   "execution_count": null,
   "metadata": {},
   "outputs": [],
   "source": [
    "#ecrire ici les instructions équivalentes avec une boucle while\n"
   ]
  },
  {
   "cell_type": "markdown",
   "metadata": {},
   "source": [
    "<div class=\"alert alert-info\"><strong>Exercice 2 : </strong>On dispose d'un capital de 1000€, et chaque année, on perçoit 5% d'intérêts composés et on ajoute 500€ sur le compte.\n",
    "Au bout de combien d'année la valeur du compte dépassera-t-elle les 10 000€?</p>\n",
    "</div>"
   ]
  },
  {
   "cell_type": "code",
   "execution_count": 7,
   "metadata": {},
   "outputs": [],
   "source": [
    "#ecrire ici le code pour trouver le nombre d'années d'attente\n"
   ]
  },
  {
   "cell_type": "markdown",
   "metadata": {},
   "source": [
    "<div class=\"alert alert-info\"><strong>Exercice 3 : </strong> La population d'un village de 1000 habitants diminue chaque année de 1%.<br>\n",
    "    Ecrire un programme qui calcule le nombre d'années au bout duquel la population de ce village aura diminué de moitié.\n",
    "</div>"
   ]
  },
  {
   "cell_type": "code",
   "execution_count": null,
   "metadata": {},
   "outputs": [],
   "source": [
    "#ecrire ici le code pour trouver le nombre d'années d'attente"
   ]
  }
 ],
 "metadata": {
  "kernelspec": {
   "display_name": "Python 3",
   "language": "python",
   "name": "python3"
  },
  "language_info": {
   "codemirror_mode": {
    "name": "ipython",
    "version": 3
   },
   "file_extension": ".py",
   "mimetype": "text/x-python",
   "name": "python",
   "nbconvert_exporter": "python",
   "pygments_lexer": "ipython3",
   "version": "3.7.6"
  }
 },
 "nbformat": 4,
 "nbformat_minor": 5
}
