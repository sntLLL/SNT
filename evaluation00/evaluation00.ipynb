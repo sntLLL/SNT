{
 "cells": [
  {
   "cell_type": "code",
   "execution_count": null,
   "id": "c5255b30",
   "metadata": {},
   "outputs": [],
   "source": [
    "from outils import* # outils nécessaires au notebook"
   ]
  },
  {
   "cell_type": "markdown",
   "id": "dfc93b4f",
   "metadata": {},
   "source": [
    "# <span style=\"text-decoration: underline;color:red;\"> Bases du langage Python : evaluation </span> #\n",
    "![alt text](mes_images/logo_python.png \"logo du langage Python\")<br>\n",
    "Saisir le nom et le prénom du binôme.<br>\n"
   ]
  },
  {
   "cell_type": "code",
   "execution_count": null,
   "id": "a86d1a29",
   "metadata": {},
   "outputs": [],
   "source": [
    "nom1=input('Donne le nom du premier élève du binôme')\n",
    "prenom1=input('Donne le prénom du premier élève du binôme')\n",
    "nom2=input('Donne le nom du deuxième élève du binôme')\n",
    "prenom2=input('Donne le prénom du deuxième élève du binôme')"
   ]
  },
  {
   "cell_type": "markdown",
   "id": "d20db3b4",
   "metadata": {},
   "source": [
    "<div class=\"alert alert-info\"><strong>Exercice 1 : </strong> Une pièce rectangulaire a une longueur de 3,20 m et une largeur de 2,75 m. <br><br>\n",
    "On souhaite la carreler avec des carreaux carrés de 60 cm de côté. <br><br>\n",
    "Combien faut-il de careaux entiers sur la longueur ?<br><br>\n",
    "Combien faut-il de carreaux entiers sur la largeur ?<br><br>\n",
    "Ecrire dans la cellule de code ci-dessous les instructions python permettant de répondre àces deux questions.<br><br>\n",
    "Les deux réponses seront affectées respectivement à une variable nblong et une autre nblarg <br><br>\n",
    "Combien de carreaux entiers seront posés(affecter la réponse à une variable nbentier) ? Combien de carreaux nécessiteront une découpe(affecter la réponse à une variable (nbdecoupe)?<br><br>\n",
    "</div><br>\n"
   ]
  },
  {
   "cell_type": "code",
   "execution_count": null,
   "id": "872e445f",
   "metadata": {},
   "outputs": [],
   "source": [
    "#complète le code\n",
    "nblong =\n",
    "nblargeur=\n",
    "nbentier=\n",
    "nbdecoupe="
   ]
  },
  {
   "cell_type": "markdown",
   "id": "6d070184",
   "metadata": {},
   "source": [
    "<div class=\"alert alert-info\"><strong>Exercice 2 : </strong>Voici des lignes de code : <br></div><br>\n",
    "<br>\n",
    "r = 5<br>\n",
    "s = 2 * r<br>\n",
    "s = s ** 2<br>\n",
    "s = s - 5  <br>\n",
    "s<br>\n",
    "<div class=\"alert alert-info\">Quelles seront les valeurs successives de s ? </div><br>\n"
   ]
  },
  {
   "cell_type": "code",
   "execution_count": null,
   "id": "3344e4ba",
   "metadata": {},
   "outputs": [],
   "source": [
    "s_1=\n",
    "s_2=\n",
    "s_3="
   ]
  },
  {
   "cell_type": "markdown",
   "id": "6b7b5812",
   "metadata": {},
   "source": [
    "<div class=\"alert alert-info\"><strong>Exercice 3 : </strong> Ecrire un algorithme qui demande le rayon d'un cercle en cm à l'utilisateur et qui renvoie un message du type : <br><br>\n",
    "Le cercle de rayon 6 cm a un périmètre d'environ de 37,68 cm et le disque une aire d'environ 113,04 cm².<br>\n",
    "Attention le programme doit donner la bonne valeur pour des rayons autres que 6.<br>\n",
    "</div><br>\n"
   ]
  },
  {
   "cell_type": "code",
   "execution_count": null,
   "id": "a3cdc442",
   "metadata": {},
   "outputs": [],
   "source": [
    "#ecris ici la suite d'instructions del'exercice 3 "
   ]
  },
  {
   "cell_type": "markdown",
   "id": "cc97f7ca",
   "metadata": {},
   "source": [
    "<div class=\"alert alert-info\"><strong>Exercice 4 : </strong> <br>\n",
    "Un stylo coûte 3 €, un cahier 2€ et un livre 6 €.<br><br>\n",
    "Ecrire un algorithme qui demande le nombre de stylos, de cahiers et de livres à l'utilisateur et qui renvoie un message<br>\n",
    "donnant le prix à payer avec un affichage donnant le détail ainsi : <br>\n",
    "stylo : prix1<br>\n",
    "cahiers :prix2<br>\n",
    "livre : prix3<br>\n",
    "total : prix4<br>\n",
    "</div><br>\n"
   ]
  },
  {
   "cell_type": "code",
   "execution_count": null,
   "id": "1f456a41",
   "metadata": {},
   "outputs": [],
   "source": [
    "# ecrire ici le code"
   ]
  },
  {
   "cell_type": "markdown",
   "id": "2402431f",
   "metadata": {},
   "source": [
    "Sauvegarder ce notebook dans ses documents personnels et en placer une copie dans restitution de devoirs<br>\n",
    "<br>\n",
    "<br>\n",
    "<br>\n",
    "<br>\n",
    "&nbsp;<br>\n"
   ]
  }
 ],
 "metadata": {},
 "nbformat": 4,
 "nbformat_minor": 5
}
