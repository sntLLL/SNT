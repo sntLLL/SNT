{
 "cells": [
  {
   "cell_type": "code",
   "execution_count": null,
   "id": "87ff0358",
   "metadata": {},
   "outputs": [],
   "source": [
    "from outils import* # outils nécessaires au notebook"
   ]
  },
  {
   "cell_type": "markdown",
   "id": "e14bd4f0",
   "metadata": {},
   "source": [
    "# <span style=\"text-decoration: underline;color:red;\"> Bases du langage Python </span> #\n",
    "![alt text](mes_images/logo_python.png \"logo du langage Python\")<br>\n",
    "![alt text](mes_images/Guido_van_Rossum.jpg \"créateur du langage Python\")<br>\n",
    "Le langage Python a été créé par le néerlandais Guido van Rossum en 1991.<br>\n",
    "Il existe de nombreux langages de programmation (voir ce site https://www.tiobe.com/tiobe-index/ qui indique la popularité des langages au cours du temps). Parmi les avantages du langage Python, on peut citer :<br>\n",
    "&nbsp;• facile à apprendre ; Python est devenu le langage privilégié pour l'enseignement de la programmation au niveau lycée partout dans le monde.  <br>\n",
    "&nbsp;• syntaxe simple et courte (cette simplicité engendre aussi certains défauts)  <br>\n",
    "&nbsp;• puissant, de haut niveau et polyvalent (réseau, images, interfaces graphiques, etc...)  <br>\n",
    "&nbsp;• très utilisé dans le domaine du \"Deep Learning\" et plus généralement de l'intelligence artificielle  <br>\n",
    "&nbsp;&nbsp;<br>\n",
    "Si le langage Python n'avait que des avantages, les autres langages concurrents auraient disparu. Le principal défaut de Python est sa relative lenteur par rapport à d'autres langages comme C/C++ ou Java. Enfin ce langage est peu adapté à la programmation sur smartphone.<br>\n",
    "\n",
    "# <span style=\"color:skyblue;\"> Sommaire </span> #\n",
    "## <span style=\"color:skyblue;\"> 1 Nombres et calculs </span> ##\n",
    "## <span style=\"color:skyblue;\">2 Variables et affectations </span> ##\n",
    "## <span style=\"color:skyblue;\">3 Chaînes de caractères </span> ##\n",
    "## <span style=\"color:skyblue;\">4 Saisie de l'entrée utilisateur </span> ##\n",
    "## <span style=\"color:skyblue;\">5 Booléens </span> ##\n",
    "## <span style=\"color:skyblue;\">6 Remarques </span> ##\n",
    "<br>\n",
    "<br>\n",
    "<h2 style=\"text-decoration:underline;\" id=\"partie1\">1- Nombres et calculs</h2><br><br><br>\n",
    "Python permet d'effectuer tout type de calcul, comme une calculatrice ordinaire.<br>\n"
   ]
  },
  {
   "cell_type": "code",
   "execution_count": null,
   "id": "a38939e3",
   "metadata": {},
   "outputs": [],
   "source": [
    "5+8"
   ]
  },
  {
   "cell_type": "code",
   "execution_count": null,
   "id": "0f7ab0d2",
   "metadata": {},
   "outputs": [],
   "source": [
    "5+6*7"
   ]
  },
  {
   "cell_type": "markdown",
   "id": "7a31af3b",
   "metadata": {},
   "source": [
    "Les règles de priorité des calculs sont les mêmes qu'en mathématiques. On utilise des parenthèses lorsqu'on a besoin de changer l'ordre de priorité.<div class=\"alert alert-info\"><strong>Exercice 1 : </strong> Cette année, j'ai quatre type de classes : <ul><li>secondes : 32 élèves</li><li>premières : 27 élèves</li><li>terminales : 34 élèves</li><li>bts : 33 élèves</li></ul>Chaque élève du lycée peu recevoir 50 photocopies et les étudiants 112.Combien dois-je prévoir de photocopies en tout ? <br>Ecris dans la cellule de code ci-dessous le calcul et exécute le.<br>\n",
    "</div><br>\n"
   ]
  },
  {
   "cell_type": "code",
   "execution_count": null,
   "id": "372d40eb",
   "metadata": {},
   "outputs": [],
   "source": [
    "#ecris une suite d'opérations donnant le nombre de photocopies"
   ]
  },
  {
   "cell_type": "markdown",
   "id": "700abbac",
   "metadata": {},
   "source": [
    "Pour calculer une <strong>puissance</strong>, on utilise la notation ** . Par exemple pour calculer 7 au carré, on écrira 7**2.<div class=\"alert alert-info\"><strong>Exercice 2 : </strong> Calculer 6 au cube de deux manières différentes : en utilisant une puissance et sans utiliser de puissance.</div><br>\n"
   ]
  },
  {
   "cell_type": "code",
   "execution_count": null,
   "id": "e7a35567",
   "metadata": {},
   "outputs": [],
   "source": [
    "#avec une puissance"
   ]
  },
  {
   "cell_type": "code",
   "execution_count": null,
   "id": "3d58b689",
   "metadata": {},
   "outputs": [],
   "source": [
    "#sans puissance"
   ]
  },
  {
   "cell_type": "markdown",
   "id": "827506ec",
   "metadata": {},
   "source": [
    "Une des particularités du langage Python est que le nombre de chiffres n'est pas limité pour les nombres entiers.<br>\n",
    "<div class=\"alert alert-info\"><strong>Exercice 3 : </strong> Calculer 2 puissance 120. <br>\n",
    "</div><br>\n"
   ]
  },
  {
   "cell_type": "code",
   "execution_count": null,
   "id": "a4e43240",
   "metadata": {},
   "outputs": [],
   "source": [
    "#calcul de 2 puissance 120 !"
   ]
  },
  {
   "cell_type": "markdown",
   "id": "d93f166f",
   "metadata": {},
   "source": [
    "<strong>Types numériques</strong> <br><br>\n",
    "Il existe plusieurs types de nombres en Python : les <strong>entiers</strong> (<code>int</code>, abréviation de \"integer\") et les <strong>flottants</strong> (<code>float</code>, abréviation de \"floating number\" qui signie \"nombre à virgule flottante\").<br>La fonction <code>type()</code> indique le type du nombre qu'on lui donne en paramètre. Exécute les lignes de code suivantes :"
   ]
  },
  {
   "cell_type": "code",
   "execution_count": null,
   "id": "2ae383db",
   "metadata": {},
   "outputs": [],
   "source": [
    "type(5)"
   ]
  },
  {
   "cell_type": "code",
   "execution_count": null,
   "id": "2e82caa9",
   "metadata": {},
   "outputs": [],
   "source": [
    "type(5.0)"
   ]
  },
  {
   "cell_type": "markdown",
   "id": "f1326516",
   "metadata": {},
   "source": [
    "**La division**<br><br>\n",
    "Il existe deux types de division en Python : la division entière avec l'opérateur // et la division flottante avec l'opérateur / .<br><br>\n",
    "L'opérateur % permet d'obtenir le reste dans une division entière.<br><br>\n",
    "Exemples : exécute les lignes de code ci-dessous<br>\n"
   ]
  },
  {
   "cell_type": "code",
   "execution_count": null,
   "id": "3225c5e9",
   "metadata": {},
   "outputs": [],
   "source": [
    "19//5"
   ]
  },
  {
   "cell_type": "code",
   "execution_count": null,
   "id": "ebf5c8ce",
   "metadata": {},
   "outputs": [],
   "source": [
    "19/5"
   ]
  },
  {
   "cell_type": "code",
   "execution_count": null,
   "id": "d3b8f955",
   "metadata": {},
   "outputs": [],
   "source": [
    "19%5"
   ]
  },
  {
   "cell_type": "markdown",
   "id": "48d11242",
   "metadata": {},
   "source": [
    "Quel est le type de ces trois résultats ?<br>\n",
    "<div class=\"alert alert-info\"><strong>Exercice 4 : </strong> En utilisant les opérateurs précédents, écrire 437 secondes au format minutes:secondes.</div><br>\n",
    "Nombre de minutes :<br>\n"
   ]
  },
  {
   "cell_type": "code",
   "execution_count": null,
   "id": "4f434927",
   "metadata": {},
   "outputs": [],
   "source": [
    "#nombre de minutes"
   ]
  },
  {
   "cell_type": "markdown",
   "id": "4054c01b",
   "metadata": {},
   "source": [
    "Nombre de secondes :<br>\n"
   ]
  },
  {
   "cell_type": "code",
   "execution_count": null,
   "id": "1db8f663",
   "metadata": {},
   "outputs": [],
   "source": [
    "#nombre de secondes"
   ]
  },
  {
   "cell_type": "markdown",
   "id": "025f702f",
   "metadata": {},
   "source": [
    "<strong>Nombres aléatoires</strong><br><br>\n",
    "<p style=\"text-align:justify;\">Les fonctions concernant les nombres aléatoires ne font pas partie des fonctions de base du langage Python. Pour pouvoir les utiliser, on doit commencer par donner l'accès à une bibliothèque de fonctions appelée <code>random</code> (\"random\" signifie \"aléatoire\") au moyen de l'instruction <code>import random</code>.</p>Exécute plusieurs fois la cellule ci-dessous :<br>"
   ]
  },
  {
   "cell_type": "code",
   "execution_count": null,
   "id": "d3b76686",
   "metadata": {},
   "outputs": [],
   "source": [
    "import random\n",
    "random.ranint(4,7)"
   ]
  },
  {
   "cell_type": "markdown",
   "id": "b9a755ee",
   "metadata": {},
   "source": [
    "On peut aussi importer toutes les fonctions de la bibliothèque random d'un seul coup, ce qui permet d'éviter d'écrire le préfixe random. lorsqu'on utilise une de ces fonctions :<br>\n"
   ]
  },
  {
   "cell_type": "code",
   "execution_count": null,
   "id": "6a418421",
   "metadata": {},
   "outputs": [],
   "source": [
    "from random import *\n",
    "randint(4,7)"
   ]
  },
  {
   "cell_type": "markdown",
   "id": "124150d5",
   "metadata": {},
   "source": [
    "<div class=\"alert alert-info\"><strong>Exercice 5 : </strong> Simuler le lancer de deux dés et afficher la somme obtenue.<br>\n",
    "</div><br>\n"
   ]
  },
  {
   "cell_type": "code",
   "execution_count": null,
   "id": "e8fe99d4",
   "metadata": {},
   "outputs": [],
   "source": [
    "#simultation du lancer de deux dés cubiques dont on effectue la somme"
   ]
  },
  {
   "cell_type": "markdown",
   "id": "6065cce4",
   "metadata": {},
   "source": [
    "La fonction random() renvoie une nombre aléatoire compris entre 0 et 1, de type float :<br>\n"
   ]
  },
  {
   "cell_type": "code",
   "execution_count": null,
   "id": "1d018585",
   "metadata": {},
   "outputs": [],
   "source": [
    "#utilisation de la fonction random()"
   ]
  },
  {
   "cell_type": "markdown",
   "id": "14f3bfcd",
   "metadata": {},
   "source": [
    "<h2 style=\"text-decoration:underline\" id=\"partie2\">2- Variables et affectations</h2><br><br>\n",
    "On peut conserver ou stocker un nombre ou le résultat d'un calcul dans une **variable**. <br><br>\n",
    "Compléte les phrases  <code>#on affecte...</code> puis exécute le code."
   ]
  },
  {
   "cell_type": "code",
   "execution_count": null,
   "id": "26d0da77",
   "metadata": {},
   "outputs": [],
   "source": [
    "a = 2      # on affecte la valeur 2 à la variable a\n",
    "b = 5      # on affecte...\n",
    "c = a + b  # on affecte...\n",
    "a = 3\n",
    "c"
   ]
  },
  {
   "cell_type": "markdown",
   "id": "fd6ab983",
   "metadata": {},
   "source": [
    "Le contenu des variables persiste en mémoire mais attention c'est la valeur de la dernière affectation qui est sauvegardée dans la variable. Chaque affectation dans une variable écrase (efface) la valeur précédente.  <br>\n",
    "Par exemple, la variable <code>a</code> a subi deux affectations, quelle sera sa valeur ?"
   ]
  },
  {
   "cell_type": "code",
   "execution_count": null,
   "id": "f403c480",
   "metadata": {},
   "outputs": [],
   "source": [
    "a"
   ]
  },
  {
   "cell_type": "markdown",
   "id": "e212ea68",
   "metadata": {},
   "source": [
    "⚠️Afficher une variable qui n'a pas encore été définie ou déclarée provoque une erreur :<br>\n"
   ]
  },
  {
   "cell_type": "code",
   "execution_count": null,
   "id": "bc2bfdb9",
   "metadata": {},
   "outputs": [],
   "source": [
    "d"
   ]
  },
  {
   "cell_type": "markdown",
   "id": "fe79666e",
   "metadata": {},
   "source": [
    "<div class=\"alert alert-info\"><strong>Exercice 6 : </strong> Ecrire un algorithme qui échange le contenu des variables a et b ci-dessous (trois lignes à compléter).<br>\n",
    "</div><br>\n"
   ]
  },
  {
   "cell_type": "code",
   "execution_count": null,
   "id": "aba68add",
   "metadata": {},
   "outputs": [],
   "source": [
    "a = 7\n",
    "b = 4\n",
    "#ecris ici les affectations (3 lignes)"
   ]
  },
  {
   "cell_type": "code",
   "execution_count": null,
   "id": "832dd916",
   "metadata": {},
   "outputs": [],
   "source": [
    "#affiche la valeur de a"
   ]
  },
  {
   "cell_type": "code",
   "execution_count": null,
   "id": "66f0c161",
   "metadata": {},
   "outputs": [],
   "source": [
    "#affiche la valeur de b"
   ]
  },
  {
   "cell_type": "markdown",
   "id": "94a0119a",
   "metadata": {},
   "source": [
    "<div class=\"alert alert-info\"><strong>Exercice 6bis : </strong> Quel est le rôle de l'algorithme ci-dessous ? Prouvez-le !</div><br>\n"
   ]
  },
  {
   "cell_type": "code",
   "execution_count": null,
   "id": "53c3df2c",
   "metadata": {},
   "outputs": [],
   "source": [
    "x = 56\n",
    "y = 35\n",
    "x = x + y\n",
    "y = x - y\n",
    "x = x - y"
   ]
  },
  {
   "cell_type": "code",
   "execution_count": null,
   "id": "5c2e4c41",
   "metadata": {},
   "outputs": [],
   "source": [
    "#affiche la valeur de x, puis celle de y"
   ]
  },
  {
   "cell_type": "code",
   "execution_count": null,
   "id": "8b43bb1d",
   "metadata": {},
   "outputs": [],
   "source": [
    "#affiche la valeur de y"
   ]
  },
  {
   "cell_type": "markdown",
   "id": "c29986c6",
   "metadata": {},
   "source": [
    "**Syntaxe abrégée** <br><br>\n",
    "On a souvent besoin d'**incrémenter** une variable (augmenter sa valeur de 1) ou de la décrémenter (diminuer sa valeur de 1).<br><br>\n",
    "Au lieu d'écrire <code>a = a + 1</code>, on peut écrire de façon plus courte : <code>a += 1</code>.<br>Cette syntaxe raccourcie fonctionne pour n'importe quelle valeur de l'incrément, ainsi que pour les opérateurs <code>+ , - , *, / , // et %</code>.<div class=\"alert alert-info\"><strong>Exercice 7 : </strong> En utilisant la syntaxe abégée, ajouter 37 à la variable a ci-dessous, puis multiplier sa valeur par 2.</div><br>"
   ]
  },
  {
   "cell_type": "code",
   "execution_count": null,
   "id": "07b7f7eb",
   "metadata": {},
   "outputs": [],
   "source": [
    "a=11\n",
    "a+=37\n",
    "a*=2\n",
    "a"
   ]
  },
  {
   "cell_type": "markdown",
   "id": "e4641aa2",
   "metadata": {},
   "source": [
    "<h2 style=\"text-decoration:underline;\" id=\"partie3\";>3- Chaînes de caractères</h2><br><br>\n",
    "<p style=\"text-align:justify;\">La fonction <code>print()</code> permet d'afficher une chaîne de caractères (\"string\" en anglais).La chaîne de caractère que l'on souhaite afficher doit être écrite entre guillemets (simples ' double \" ou triples '''). Sans guillemets, c'est le contenu de la variable dont le nom est transmis en paramètre qui sera affiché.</p><br>"
   ]
  },
  {
   "cell_type": "code",
   "execution_count": null,
   "id": "7fa8c31c",
   "metadata": {},
   "outputs": [],
   "source": [
    "bonjour = 8\n",
    "print(\"bonjour\")\n",
    "print(bonjour)"
   ]
  },
  {
   "cell_type": "markdown",
   "id": "a36626b7",
   "metadata": {},
   "source": [
    "<div class=\"alert alert-info\"><strong>Exercice 8 : </strong> Ecrire une ligne de programme qui affiche le message \"Au revoir !\".</div><br>\n"
   ]
  },
  {
   "cell_type": "code",
   "execution_count": null,
   "id": "c8927113",
   "metadata": {},
   "outputs": [],
   "source": [
    "#message d'au revoir !"
   ]
  },
  {
   "cell_type": "markdown",
   "id": "6a98717b",
   "metadata": {},
   "source": [
    "Une variable peut contenir une chaîne de caractères :<br>\n"
   ]
  },
  {
   "cell_type": "code",
   "execution_count": null,
   "id": "f3a2007f",
   "metadata": {},
   "outputs": [],
   "source": [
    "message = \"coucou\"\n",
    "print(message)\n",
    "type(message)"
   ]
  },
  {
   "cell_type": "markdown",
   "id": "7644d05a",
   "metadata": {},
   "source": [
    "On peut afficher plusieurs chaînes de caractères à l'aide d'une seule instruction print(). Par défaut, un espace sera inséré entre chaque chaîne :<br>\n"
   ]
  },
  {
   "cell_type": "code",
   "execution_count": null,
   "id": "d9988303",
   "metadata": {},
   "outputs": [],
   "source": [
    "age = 32\n",
    "print(\"Vous avez\",age,\"ans.\")"
   ]
  },
  {
   "cell_type": "markdown",
   "id": "33e1da5b",
   "metadata": {},
   "source": [
    "Plutôt qu'un espace, on peut insérer :<br>\n",
    "un autre caractère (par exemple un point-virgule) plusieurs caractères (par exemple \" et \") aucun caractère (les chaînes seront \"collées\") un saut de ligne (que l'on écrit \"\\n\", et qui signifie \"new line\")<br>\n"
   ]
  },
  {
   "cell_type": "code",
   "execution_count": null,
   "id": "946e9e82",
   "metadata": {},
   "outputs": [],
   "source": [
    "print(\"Victor\",\"Léa\",\"Ninon\",sep=\";\")\n",
    "print(\"Victor\",\"Léa\",\"Ninon\",sep=\" et \")\n",
    "print(\"Victor\",\"Léa\",\"Ninon\",sep=\"\")\n",
    "print(\"Victor\",\"Léa\",\"Ninon\",sep=\"\\n\")"
   ]
  },
  {
   "cell_type": "markdown",
   "id": "5c0406b1",
   "metadata": {},
   "source": [
    "<div class=\"alert alert-info\"><strong>Exercice 9 : </strong> Ecrire un instruction qui affiche la liste de courses séparées par un tiret. Il faut des pommes, des yaourts, des biscuits et de la lessive.</div><br>\n"
   ]
  },
  {
   "cell_type": "code",
   "execution_count": null,
   "id": "62715054",
   "metadata": {},
   "outputs": [],
   "source": [
    "#affichage de la liste de courses"
   ]
  },
  {
   "cell_type": "markdown",
   "id": "fa2e64ad",
   "metadata": {},
   "source": [
    "Si on ne souhaite pas passer à la ligne suivante pour la prochaine instruction print, on peut l'indiquer au moyen du paramètre end=\"\" :<br>\n"
   ]
  },
  {
   "cell_type": "code",
   "execution_count": null,
   "id": "cc07fb40",
   "metadata": {},
   "outputs": [],
   "source": [
    "print(\"Victor\")\n",
    "print(\"Léa\")\n",
    "print(\"Ninon\")\n",
    "print(\"Victor\",end=\"\")\n",
    "print(\"Léa\",end=\"\")\n",
    "print(\"Ninon\")"
   ]
  },
  {
   "cell_type": "markdown",
   "id": "3b953953",
   "metadata": {},
   "source": [
    "On peut **concaténer** (fusionner) plusieurs chaînes de caractère au moyen de l'opérateur + :<br>\n"
   ]
  },
  {
   "cell_type": "code",
   "execution_count": null,
   "id": "5b628e86",
   "metadata": {},
   "outputs": [],
   "source": [
    "message1 = \"Bonjour \"\n",
    "message2 = \"Madame\"\n",
    "message3 = message1 + message2\n",
    "print(message3)\n",
    "message3+=\"!\"    # la syntaxe abrégée fonctionne aussi pour la concaténation de chaînes de caractères\n",
    "print(message3)"
   ]
  },
  {
   "cell_type": "markdown",
   "id": "f11350d1",
   "metadata": {},
   "source": [
    "On ne peut pas concaténer une chaîne de caractères avec une valeur numérique directement. Il faut au préalable transformer la valeur numérique en chaîne de caractères au moyen de la fonction <code>str()</code> :"
   ]
  },
  {
   "cell_type": "code",
   "execution_count": null,
   "id": "52876d13",
   "metadata": {},
   "outputs": [],
   "source": [
    "âge = 25\n",
    "début = \"J'ai \"\n",
    "fin = \" ans.\"\n",
    "phrase = début + str(âge) + fin\n",
    "print(phrase)"
   ]
  },
  {
   "cell_type": "markdown",
   "id": "bee6a76c",
   "metadata": {},
   "source": [
    "<div class=\"alert alert-info\"><strong>Exercice 10 : </strong> Complète le code ci-dessous par une suite d'instructions qui se termine par l'affichage de la durée exprimée en secondes en min:sec avec une phrase du type : \"la duree de 437 s est égale à 7 minutes 17 secondes\"<br>\n",
    "</div><br>\n"
   ]
  },
  {
   "cell_type": "code",
   "execution_count": null,
   "id": "b511b112",
   "metadata": {},
   "outputs": [],
   "source": [
    "duree=789 #duree en secondes à convertir au format min:sec \n",
    "#calculs et affichage de la réponse."
   ]
  },
  {
   "cell_type": "markdown",
   "id": "1cb3abc9",
   "metadata": {},
   "source": [
    "<div class=\"alert alert-info\"><strong>Exercice 11 : </strong> Complète le code ci-dessous par une suite d'instructions qui se termine par l'affichage de l'aire et du prérimètre d'un rectangle avec une phrase du type :<br><br>\n",
    "&nbsp;&nbsp;&nbsp;&nbsp;&nbsp;&nbsp;&nbsp;&nbsp;&nbsp;&nbsp;&nbsp;&nbsp;&nbsp;&nbsp;&nbsp;&nbsp;&nbsp;&nbsp;&nbsp;&nbsp;&nbsp;&nbsp;&nbsp;&nbsp;&nbsp;&nbsp;&nbsp;&nbsp;&nbsp;\"Un rectangle de longeur 13 cm et de largeur 5 cm a   <br><br>\n",
    "&nbsp;&nbsp;&nbsp;&nbsp;&nbsp;&nbsp;&nbsp;&nbsp;&nbsp;&nbsp;&nbsp;&nbsp;&nbsp;&nbsp;&nbsp;&nbsp;&nbsp;&nbsp;&nbsp;&nbsp;&nbsp;&nbsp;&nbsp;&nbsp;&nbsp;&nbsp;&nbsp;&nbsp;&nbsp;&nbsp;&nbsp;&nbsp;&nbsp;&nbsp;&nbsp;&nbsp;&nbsp;&nbsp;&nbsp;&nbsp;&nbsp;&nbsp;&nbsp;&nbsp;&nbsp;&nbsp;un périmètre de 36 cm <br><br>\n",
    "&nbsp;&nbsp;&nbsp;&nbsp;&nbsp;&nbsp;&nbsp;&nbsp;&nbsp;&nbsp;&nbsp;&nbsp;&nbsp;&nbsp;&nbsp;&nbsp;&nbsp;&nbsp;&nbsp;&nbsp;&nbsp;&nbsp;&nbsp;&nbsp;&nbsp;&nbsp;&nbsp;&nbsp;&nbsp;&nbsp;&nbsp;&nbsp;&nbsp;&nbsp;&nbsp;&nbsp;&nbsp;&nbsp;&nbsp;&nbsp;&nbsp;&nbsp;&nbsp;&nbsp;&nbsp;&nbsp;une aire de 65 cm²</div><br>\n"
   ]
  },
  {
   "cell_type": "code",
   "execution_count": null,
   "id": "28556bf1",
   "metadata": {},
   "outputs": [],
   "source": [
    "long=45\n",
    "larg=31\n",
    "#calculs et affichage des réponses"
   ]
  },
  {
   "cell_type": "markdown",
   "id": "c6be3ff4",
   "metadata": {},
   "source": [
    "<div class=\"alert alert-info\"><strong>Exercice 12 : </strong> Affichage de l'énoncé, réalisation d'un calcul et affichage du résultat<br>\n",
    "</div><br>\n"
   ]
  },
  {
   "cell_type": "code",
   "execution_count": null,
   "id": "cd1c13f5",
   "metadata": {},
   "outputs": [],
   "source": [
    "# Affecter les valeurs 4, 12.6 et -14.78 à trois variables a, b et c.\n",
    "# Déterminer ensuite la valeur de l'expression 2a*(b/3 - c²).\n",
    "...\n",
    "...\n",
    "...\n",
    "...\n",
    "# L'expression 2a*(b/3 - c²) vaut exactement ..."
   ]
  },
  {
   "cell_type": "markdown",
   "id": "f0b0b7d4",
   "metadata": {},
   "source": [
    "<h2 style=\"text-decoration:underline;\" id=\"partie3\";>4- Saisie de l'entrée utilisateur</h2><br><br>\n",
    "On peut demander à l'utilisateur de saisir une valeur avec la fonction <code>input()</code>. On peut ajouter en paramètre facultatif un message qui donne des précisions sur la valeur attendue :"
   ]
  },
  {
   "cell_type": "code",
   "execution_count": null,
   "id": "22a357d5",
   "metadata": {},
   "outputs": [],
   "source": [
    "a = input()\n",
    "b = input(\"Entrez votre âge : \")"
   ]
  },
  {
   "cell_type": "markdown",
   "id": "5d0daa55",
   "metadata": {},
   "source": [
    "⚠️⚠️La valeur renvoyée par la fonction input() est du type chaîne de caractères (string). Si on souhaite utiliser cette valeur pour effectuer des calculs, on doit d'abord convertir cette chaîne en entier avec la fonction int() ou en flottant avec la fonction float() :⚠️⚠️<br>\n"
   ]
  },
  {
   "cell_type": "markdown",
   "id": "59419874",
   "metadata": {},
   "source": [
    "<font color=\"red\" > **Attention !** </font> Toute variable saisie par l'utilisateur est pour Python une **chaîne de caractères** !\n",
    "- **L'instruction `type()` permet de vérifier le type de variable utilisée.**\n",
    "\n"
   ]
  },
  {
   "cell_type": "code",
   "execution_count": null,
   "id": "91db7a03",
   "metadata": {},
   "outputs": [],
   "source": [
    "a = input (\"entre un nombre entier\") # la variable sera considérée comme une chaîne de caractères\n",
    "print(type(a))"
   ]
  },
  {
   "cell_type": "markdown",
   "id": "c29dcb13",
   "metadata": {},
   "source": [
    "**On ne peut pas faire des calculs** avec des chaines de caractères donc on convertit en nombres avec **int( )** ou **float( )**<br>\n"
   ]
  },
  {
   "cell_type": "code",
   "execution_count": null,
   "id": "3d0de4db",
   "metadata": {},
   "outputs": [],
   "source": [
    "a=input(\"donne un entier a egal à 123\")"
   ]
  },
  {
   "cell_type": "code",
   "execution_count": null,
   "id": "c4f372f8",
   "metadata": {},
   "outputs": [],
   "source": [
    "b=input(\"donne un décimal b egale à 45,6\")"
   ]
  },
  {
   "cell_type": "code",
   "execution_count": null,
   "id": "cf484caa",
   "metadata": {},
   "outputs": [],
   "source": [
    "print(a+b)"
   ]
  },
  {
   "cell_type": "code",
   "execution_count": null,
   "id": "6fb0770a",
   "metadata": {},
   "outputs": [],
   "source": [
    "#convertir ces saises utilisateur pour calculer leur somme et leur produit et affiche les résultats"
   ]
  },
  {
   "cell_type": "markdown",
   "id": "8b1a5db1",
   "metadata": {},
   "source": [
    "<div class=\"alert alert-info\"><strong>Exercice 13 : </strong> Ecrire un programme qui demande le prénom de l'utilisateur, son age actuel et une année après 2022.  <br>\n",
    "Le programme affichera en réponse : \"Bonjour <span style=\"font-family:Courier New;font-size: 100%;\">prenom</span>, en <span style=\"font-family:Courier New;font-size: 100%;\">annee</span>, tu auras <span style=\"font-family:Courier New;font-size: 100%;\">age</span> ans\"<br>\n"
   ]
  },
  {
   "cell_type": "code",
   "execution_count": null,
   "id": "8cd6b019",
   "metadata": {},
   "outputs": [],
   "source": [
    "#utilise trois variables : nom, annee et age."
   ]
  }
 ],
 "metadata": {},
 "nbformat": 4,
 "nbformat_minor": 5
}
