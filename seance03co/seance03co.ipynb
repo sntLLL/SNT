{
 "cells": [
  {
   "cell_type": "code",
   "execution_count": 1,
   "id": "48e04b69",
   "metadata": {},
   "outputs": [],
   "source": [
    "from outils import* # outils nécessaires au notebook"
   ]
  },
  {
   "cell_type": "markdown",
   "id": "7f504f0b",
   "metadata": {},
   "source": [
    "# <span style=\"text-decoration: underline;color:red;\"> Conditions, tests et booléens </span> #\n",
    "![alt text](mes_images/logo_python.png \"logo du langage Python\")<br>\n",
    "\n",
    "# <span style=\"color:skyblue;\"> Sommaire </span> #\n",
    "## <span style=\"color:skyblue;\"> 1 Les conditions </span> ##\n",
    "## <span style=\"color:skyblue;\">2 Les booléens </span> ##\n",
    "## <span style=\"color:skyblue;\">3 Les conditions multiples </span> ##\n",
    "<br>\n",
    "Les <strong>conditions</strong> nous permettent de rendre nos programmes adaptatifs en leur donnant la possibilité de se comporter différemment selon qu'une certaine condition est réalisée ou pas.<br>\n",
    "<br>\n",
    "<h2 style=\"text-decoration:underline;\" id=\"partie1\">1- Les conditions</h2><br><br><br>\n",
    "Le diagramme ci-dessous donne la structure conditionnelle de base : <strong>si ... alors ... sinon...</strong><br>\n"
   ]
  },
  {
   "cell_type": "markdown",
   "id": "5fc98361",
   "metadata": {},
   "source": [
    "![alt text](mes_images/schemacondition.png \"diagramme d'une condition de base\")<br>\n",
    "<br>\n",
    "Cela correspond au pseudo-code suivant :<br>\n",
    "<code>instructions A<br>Si condition vraie faire :<br>&nbsp;&nbsp;&nbsp;&nbsp;instructions B<br>Sinon<br>&nbsp;&nbsp;&nbsp;&nbsp;instructions C<br>instructions D<br></code><br>En Python, les mot-clés sont <span style=\"font-family:Courier New;font-size: 100%;\">if</span> (si) et <span style=\"font-family:Courier New;font-size: 100%;\">else</span> (sinon) : <br><br>\n",
    "<code>instructions A<br>if condition :<br>&nbsp;&nbsp;&nbsp;&nbsp;B<br>else:<br>&nbsp;&nbsp;&nbsp;&nbsp;C<br>D<br></code>Notez bien que les instructions des blocs B et C sont décalées (une indentation) par rapport au <span style=\"font-family:Courier New;font-size: 100%;\">if</span> et <span style=\"font-family:Courier New;font-size: 100%;\">else</span><br>\n",
    "Les instructions du bloc D seront exécutées quelque soit la valeur de la condition du si car elle n'est pas indentée (pas de décalage)<br><br>\n",
    "Le programme ci-dessous adapte son comportement à la réponse fournie par l'utilisateur :<br>\n"
   ]
  },
  {
   "cell_type": "code",
   "execution_count": 4,
   "id": "0944b4ff",
   "metadata": {},
   "outputs": [
    {
     "name": "stdout",
     "output_type": "stream",
     "text": [
      "Veuillez entrer votre âge ! 18\n",
      "Vous êtes majeur!\n",
      "Au revoir!\n"
     ]
    }
   ],
   "source": [
    "âge = int(input(\"Veuillez entrer votre âge ! \"))\n",
    "if (âge >= 18):\n",
    "    print(\"Vous êtes majeur!\")\n",
    "else:\n",
    "    print(\"Vous êtes mineur!\")\n",
    "print(\"Au revoir!\")"
   ]
  },
  {
   "cell_type": "markdown",
   "id": "cf95fd34",
   "metadata": {},
   "source": [
    "<div class=\"alert alert-info\"><strong>Exercice 1 : </strong> Il faut mesurer au moins 1m30 pour pouvoir entrer dans un parc d'attractions.<br><br>\n",
    "Ecrire un programme qui demande à l'utilisateur sa taille en cm, et qui lui indique s'il peut ou non rentrer dans le parc.   <br>\n",
    "</div><br>\n"
   ]
  },
  {
   "cell_type": "code",
   "execution_count": 6,
   "id": "71ce7bca",
   "metadata": {},
   "outputs": [
    {
     "name": "stdout",
     "output_type": "stream",
     "text": [
      "Donne la taille de l'enfant en cm : 175\n",
      "Bienvenu sur le manège, amuse toi bien !\n",
      "Au revoir\n"
     ]
    }
   ],
   "source": [
    "#ecris ici ton code\n",
    "taille = input(\"Donne la taille de l'enfant en cm : \")\n",
    "taille = int(taille)   # ne pas oublier de convertir la saisie en nombre entier\n",
    "if taille < 130 :\n",
    "    print('Désolé, entrée interdite, trop petit !')\n",
    "else :\n",
    "    print(\"Bienvenu sur le manège, amuse toi bien !\")\n",
    "print(\"Au revoir\")\n",
    "    "
   ]
  },
  {
   "cell_type": "markdown",
   "id": "b99fa55b",
   "metadata": {},
   "source": [
    "<div class=\"alert alert-info\"><strong>Exercice 2 : </strong> Ecrire un programme qui demande à l'utilisateur de saisir deux nombres, puis qui affiche <strong>le plus grand</strong> de ces deux nombres.   <br>\n",
    "</div><br>\n"
   ]
  },
  {
   "cell_type": "code",
   "execution_count": 9,
   "id": "a7289898",
   "metadata": {},
   "outputs": [
    {
     "name": "stdout",
     "output_type": "stream",
     "text": [
      "donne le premier nombre entier 23\n",
      "donne le deuxième nombre entier12\n",
      "23  >  12\n"
     ]
    }
   ],
   "source": [
    "#ecris ici ton code\n",
    "a = input(\"donne le premier nombre entier \")\n",
    "a = int(a)       #on convertit la saisie en nombre entier, on peut adapter avec des float\n",
    "b = input (\"donne le deuxième nombre entier\")\n",
    "b = int(b)       #on convertit la saisie en nombre entier, on peut adapter avec des float\n",
    "if a > b:\n",
    "    print(a,\" > \",b)\n",
    "else :\n",
    "    if a < b:\n",
    "        print(a,\" < \",b)\n",
    "    else:\n",
    "        print(a,\" = \",b)  #on traite le cas de l'égalité\n",
    "\n",
    "    "
   ]
  },
  {
   "cell_type": "markdown",
   "id": "b1b3ae29",
   "metadata": {},
   "source": [
    "Voici les différents tests possibles :<br>\n"
   ]
  },
  {
   "cell_type": "markdown",
   "id": "8390c700",
   "metadata": {},
   "source": [
    "<table><br>\n",
    "&nbsp;&nbsp;&nbsp;&nbsp;<tr><th>Symbole</th><th>Signification</th></tr><br>\n",
    "&nbsp;&nbsp;&nbsp;&nbsp;<tr><td>==</td><td>égal à</td></tr><br>\n",
    "&nbsp;&nbsp;&nbsp;&nbsp;<tr><td>!=</td><td>différent de</td></tr> <br>\n",
    "&nbsp;&nbsp;&nbsp;&nbsp;<tr><td>$<$</td><td>strictement supérieur à</td></tr><br>\n",
    "&nbsp;&nbsp;&nbsp;&nbsp;<tr><td>$>$</td><td>strictement inférieur à</td></tr><br>\n",
    "&nbsp;&nbsp;&nbsp;&nbsp;<tr><td>$<=$</td><td>inférieur ou égal à</td></tr><br>\n",
    "&nbsp;&nbsp;&nbsp;&nbsp;<tr><td>$>=$</td><td>supérieur ou égal à</td></tr>        <br>\n",
    "</table><br>\n"
   ]
  },
  {
   "cell_type": "markdown",
   "id": "97fc7282",
   "metadata": {},
   "source": [
    "<p style=\"background-color:rgb(220,150,200);\"><strong>Attention</strong> à la différence entre = et ==  <br><br>\n",
    "Le symbole = est réservé pour l'affectation.<br><br>\n",
    "Le symbole == sert à comparer deux valeurs, plus précisément à savoir si deux valeurs sont égales. <br><br>\n",
    "Cette confusion est une importante source de bug chez les débutants en programmation.</p><br>\n"
   ]
  },
  {
   "cell_type": "markdown",
   "id": "981675a7",
   "metadata": {},
   "source": [
    "<div class=\"alert alert-info\"><strong>Exercice 3 : </strong> Ecrire un programme qui demande à l'utilisateur de saisir le mot de passe qui permet de se connecter au serveur de la NASA, et qui lui indique si l'accès est autorisé ou pas.<br><br>\n",
    "Le mot de passe est \"azerty\".  <br>\n",
    "</div><br>\n"
   ]
  },
  {
   "cell_type": "code",
   "execution_count": 11,
   "id": "2678677a",
   "metadata": {},
   "outputs": [
    {
     "name": "stdout",
     "output_type": "stream",
     "text": [
      "donner le mot de passe : azerty\n",
      "bienvenu à la Nasa !\n"
     ]
    }
   ],
   "source": [
    "#ecris ici ton code\n",
    "mdp = input(\"donner le mot de passe : \")\n",
    "if mdp == 'azerty':\n",
    "    print('bienvenu à la Nasa !')\n",
    "else :\n",
    "    print(\"accès refusé\")"
   ]
  },
  {
   "cell_type": "markdown",
   "id": "079d3adc",
   "metadata": {},
   "source": [
    "<strong>Sttructure conditionnelle incomplète :</strong> <span style=\"font-weight: bold;font-style: italic;\">si ... alors...</span><br>\n",
    "<br>\n",
    "La clause <span style=\"font-family:Courier New;font-size: 100%;\">else</span> est facultative. On obtient alors la structure suivante :<br><br>\n",
    "<code>&nbsp;&nbsp;&nbsp;&nbsp;Bloc A<br>&nbsp;&nbsp;&nbsp;&nbsp;Si condition vraie faire :<br>&nbsp;&nbsp;&nbsp;&nbsp;&nbsp;&nbsp;&nbsp;&nbsp;Bloc B<br>&nbsp;&nbsp;&nbsp;&nbsp;Bloc C<br></code>Ainsi, si la condition est vraie, on effectuera les blocs A-B-C.<br><br>\n",
    "Si la condition n'est pas vraie, on effectuera les blocs A-C<br>\n"
   ]
  },
  {
   "cell_type": "markdown",
   "id": "ac8f67a9",
   "metadata": {},
   "source": [
    "<div class=\"alert alert-info\"><strong>Exercice 4 : </strong> Réécrire le programme qui affiche la plus grande des deux valeurs saisies par l'utilisateur, mais cette fois sans utiliser la clause <code>else</code>. </div><br>"
   ]
  },
  {
   "cell_type": "code",
   "execution_count": 14,
   "id": "2ee281d6",
   "metadata": {},
   "outputs": [
    {
     "name": "stdout",
     "output_type": "stream",
     "text": [
      "donne le premier nombre entier 5\n",
      "donne le deuxième nombre entier9\n",
      "9  >  5\n"
     ]
    }
   ],
   "source": [
    "#ecris ton code\n",
    "a = input(\"donne le premier nombre entier \")\n",
    "a = int(a)       #on convertit la saisie en nombre entier, on peut adapter avec des float\n",
    "b = input (\"donne le deuxième nombre entier \")\n",
    "b = int(b)       #on convertit la saisie en nombre entier, on peut adapter avec des float\n",
    "if a < b:\n",
    "    a,b = b,a       # on place dans a la plus grande valeur, on ne fait la permutation que si a est plus peiti que b\n",
    "print(a,\" > \",b)    #on affiche toujours que a est plus grand que b"
   ]
  },
  {
   "cell_type": "markdown",
   "id": "be130507",
   "metadata": {},
   "source": [
    "<h2 style=\"text-decoration:underline;\" id=\"partie1\">2- Les booléens</h2><br><br><br>\n"
   ]
  },
  {
   "cell_type": "markdown",
   "id": "ec0ad210",
   "metadata": {},
   "source": [
    "<p>Comme on peut le voir en exécutant les trois cellules ci-dessous, des expressions comme <code>7&gt;4</code> ou <code>8&lt;2</code> ont une valeur d'un nouveau type appelé le type <strong>booléen</strong>.</p><p><span style=\"background-color:yellow; border:solid;padding:2px\">Une variable booléenne ne peut prendre que deux valeurs : <strong>True</strong> ou <strong>False</strong></span></p><br><p>True signifie \"Vrai\", False signifie \"Faux\".</p><br><p style=\"text-align:justify;\">Le mot \"booléen\" provient de George Boole (1815-1864), un mathématicien et logicien anglais qui a créé l'algèbre binaire, aujourd'hui appelée algèbre booléenne. Cette algèbre booléenne permet de traduire des raisonements logiques par des calculs algébriques.</p> <br>"
   ]
  },
  {
   "cell_type": "code",
   "execution_count": 18,
   "id": "add0ab68",
   "metadata": {},
   "outputs": [
    {
     "name": "stdout",
     "output_type": "stream",
     "text": [
      "True\n",
      "<class 'bool'>\n",
      "False\n",
      "<class 'bool'>\n"
     ]
    }
   ],
   "source": [
    "#execute le code suivant\n",
    "7>4\n",
    "a=7>4\n",
    "print(a)\n",
    "print(type(a))\n",
    "\n",
    "#recommence avec 8<2\n",
    "b = 8 < 2\n",
    "print(b)\n",
    "print(type(b))"
   ]
  },
  {
   "cell_type": "markdown",
   "id": "3ef7b356",
   "metadata": {},
   "source": [
    "<div class=\"alert alert-info\"><strong>Exercice 5 : </strong> Déterminer pour chaque ligne le type et la valeur de chacune des variables ou expressions ci-dessous.<br><br>\n",
    "&nbsp;&nbsp;&nbsp;&nbsp;On suppose que les lignes sont exécutées l'une après l'autre.<br><br>\n",
    "<code>x = 18<br>x > 7<br>x == 6<br>x > 7<br>x = 6<br>x > 7<br>x == 6<br></code>    </div>    <br>\n"
   ]
  },
  {
   "cell_type": "code",
   "execution_count": 6,
   "id": "b927955f",
   "metadata": {},
   "outputs": [
    {
     "name": "stdout",
     "output_type": "stream",
     "text": [
      "Linstruction x = 18 :  \n",
      "<class 'int'>\n",
      "18\n",
      "Linstruction x > 7 :  \n",
      "<class 'bool'>\n",
      "True\n",
      "L'instruction x == 6 :   \n",
      "<class 'bool'>\n",
      "False\n",
      "Linstruction x > 7 :  \n",
      "<class 'bool'>\n",
      "True\n",
      "L'instruction x = 6 :   \n",
      "<class 'int'>\n",
      "6\n",
      "Linstruction x > 7 :  \n",
      "<class 'bool'>\n",
      "False\n",
      "L'instruction x == 6 :   \n",
      "<class 'bool'>\n",
      "True\n"
     ]
    }
   ],
   "source": [
    "print(\"L'instruction x = 18 :  \")\n",
    "x = 18 \n",
    "#c'est une affectation, la variable x reçoit la valeur 18, x est de type integer (entier)\n",
    "print(type(x))\n",
    "print(x)\n",
    "\n",
    "x > 7 \n",
    "print(\"L'instruction x > 7 :  \")\n",
    "print (type(x > 7))\n",
    "print(x > 7)\n",
    "# c'est un test on veut savoir si la variable x est strictement supérieure à 7 : c'est un booléen \n",
    "# (sa valeur est soit True soit False) La variable x contient la valeur 18 donc le test est vrai, la valeur de l'expresion est True\n",
    "\n",
    "print(\"L'instruction x == 6 :   \")\n",
    "x == 6\n",
    "print (type(x == 6))\n",
    "print(x == 6)\n",
    "# c'est un test, on veut savoir si la variable x est égale à 6 : c'est un booléen.\n",
    "# La variable x contient toujours 18 donc le test est faux, la valeur de l'expression est False\n",
    "\n",
    "print(\"L'instruction x > 7 :  \")\n",
    "x > 7 \n",
    "print (type(x > 7))\n",
    "print(x > 7)\n",
    "# c'est un test (rien n'a changé par rapport aux lignes ci-dessus) ; il renvoie True\n",
    "\n",
    "print(\"L'instruction x = 6 :   \")\n",
    "x = 6 \n",
    "#c'est une affectation, la variable x reçoit la valeur 6, l'ancienne valeur 18 disparaît (elle est écrasée) x est de type integer (entier)\n",
    "print(type(x))\n",
    "print(x)\n",
    "\n",
    "print(\"L'instruction x > 7 :  \")\n",
    "x > 7\n",
    "print (type(x > 7))\n",
    "print(x > 7)\n",
    "# c'est un test on veut savoir si la variable x est strictement supérieure à 7 : c'est un booléen \n",
    "# (sa valeur est soit True soit False) La variable x contient la valeur 6 donc le test est faux, la valeur de l'expresion est False.\n",
    "\n",
    "print(\"L'instruction x == 6 :   \")\n",
    "x == 6\n",
    "print (type(x == 6))\n",
    "print(x == 6)\n",
    "# c'est un test, on veut savoir si la variable x est égale à 6 : c'est un booléen.\n",
    "# La variable x ne contient plus 18 mais 6 : le test est vrai, la valeur de l'expression est True\n"
   ]
  },
  {
   "cell_type": "markdown",
   "id": "6cf82cdd",
   "metadata": {},
   "source": [
    "<div class=\"alert alert-info\"><strong>Exercice 6 : </strong> Qu'affiche le code suivant ? <br>\n",
    "<p style=\"border:solid;\"><br>\n",
    "<code>b = 5<br>a = (b == 3)<br>print(a)</code>&nbsp;&nbsp;&nbsp;&nbsp;</p><br>\n",
    "</div><br>\n"
   ]
  },
  {
   "cell_type": "code",
   "execution_count": 20,
   "id": "66941486",
   "metadata": {},
   "outputs": [
    {
     "name": "stdout",
     "output_type": "stream",
     "text": [
      "False\n"
     ]
    }
   ],
   "source": [
    "#ecris le code python\n",
    "b = 5 #c'est une affectation, b recoit la valeur entière 5\n",
    "(b == 3) #ceci est un test donc c'est un booléen, sa valeur est soit True, soit False\n",
    "a = (b == 3) # on affecte à la variable a le résultat du test décrit ci-dessus\n",
    "#la valeur de a est donc la valeur du test\n",
    "print(a) #on fait afficher la valeur de a"
   ]
  },
  {
   "cell_type": "markdown",
   "id": "9d8dfa47",
   "metadata": {},
   "source": [
    "Les booléens (ou variables booléennes) sont utilisés dans les conditions. En fait, l'expression qui suit le <span style=\"font-family:Courier New;font-size: 100%;\">if</span> doit toujours être une valeur ou une variable de type booléen :<br>\n"
   ]
  },
  {
   "cell_type": "code",
   "execution_count": 21,
   "id": "2649143d",
   "metadata": {},
   "outputs": [
    {
     "name": "stdout",
     "output_type": "stream",
     "text": [
      "Vous êtes majeur.\n"
     ]
    }
   ],
   "source": [
    "majeur = True    # ou False\n",
    "if majeur == True:\n",
    "    print(\"Vous êtes majeur.\")\n",
    "else:\n",
    "    print(\"Vous êtes mineur\")"
   ]
  },
  {
   "cell_type": "markdown",
   "id": "8d3f9ae0",
   "metadata": {},
   "source": [
    "<strong>Syntaxe raccourcie des conditions</strong><br><br>\n",
    "Dans le programme précédent, <span style=\"font-family:Courier New;font-size: 100%;\">majeur == True</span> est en fait un booléen qui vaut <span style=\"font-family:Courier New;font-size: 100%;\">True</span> ou <span style=\"font-family:Courier New;font-size: 100%;\">False</span> selon la valeur de la variable <span style=\"font-family:Courier New;font-size: 100%;\">majeur</span>.<br><br>\n",
    "Ainsi, les booléens permettent une syntaxe raccourcie et plus lisible lorsqu'on écrit des conditions : <br><br>\n",
    "Au lieu d'écrire <span style=\"font-family:Courier New;font-size: 100%;\">if majeur == True:</span><br> on peut écrire : <span style=\"font-family:Courier New;font-size: 100%;\">if majeur:</span><br><br>\n",
    "Il est préférable d'utiliser cette syntaxe raccourcie.<br>\n"
   ]
  },
  {
   "cell_type": "code",
   "execution_count": 22,
   "id": "501babaa",
   "metadata": {},
   "outputs": [
    {
     "name": "stdout",
     "output_type": "stream",
     "text": [
      "Vous êtes majeur.\n"
     ]
    }
   ],
   "source": [
    "majeur = True    # ou False\n",
    "if majeur:\n",
    "    print(\"Vous êtes majeur.\")\n",
    "else:\n",
    "    print(\"Vous êtes mineur\")"
   ]
  },
  {
   "cell_type": "markdown",
   "id": "d459dd0e",
   "metadata": {},
   "source": [
    "<div class=\"alert alert-info\"><strong>Exercice 7 : </strong> Ecrire un programme qui :\n",
    "<ol>\n",
    "<li> &nbsp;Demande à l'utilisateur sa taille en cm. </li>\n",
    "<li> &nbsp;Crée une variable booléenne appelée \"grand\" dont la valeur dépend de la taille saisie. </li>\n",
    "<li> &nbsp;Affiche un message différent selon que l'utilisateur est assez grand ou pas.\n",
    "Par exemple : \"Vous avez le droit (ou pas le droit) de monter dans ce manège.\"</li>\n",
    "</ol>\n",
    "</div>\n"
   ]
  },
  {
   "cell_type": "code",
   "execution_count": 4,
   "id": "bbd6aef7",
   "metadata": {},
   "outputs": [
    {
     "name": "stdout",
     "output_type": "stream",
     "text": [
      "donne la taille en eniter de cm165\n",
      "Bienvenu sur le manège, amuse toi bien !\n",
      "Au revoir\n"
     ]
    }
   ],
   "source": [
    "#ecris ton code\n",
    "taille = input(\"donne la taille en eniter de cm\")\n",
    "taille = int(taille)\n",
    "grand = (taille >= 160)\n",
    "if grand:\n",
    "    print(\"Bienvenu sur le manège, amuse toi bien !\")\n",
    "else :\n",
    "    print('Désolé, entrée interdite, tu es trop petit !')\n",
    "print(\"Au revoir\")"
   ]
  },
  {
   "cell_type": "markdown",
   "id": "24529188",
   "metadata": {},
   "source": [
    "<h2 style=\"text-decoration:underline;\" id=\"partie3\">3- Les conditions multiples</h2><br>\n"
   ]
  }
 ],
 "metadata": {
  "kernelspec": {
   "display_name": "Python 3 (ipykernel)",
   "language": "python",
   "name": "python3"
  },
  "language_info": {
   "codemirror_mode": {
    "name": "ipython",
    "version": 3
   },
   "file_extension": ".py",
   "mimetype": "text/x-python",
   "name": "python",
   "nbconvert_exporter": "python",
   "pygments_lexer": "ipython3",
   "version": "3.9.12"
  }
 },
 "nbformat": 4,
 "nbformat_minor": 5
}
