{
 "cells": [
  {
   "cell_type": "code",
   "execution_count": 90,
   "id": "fa49bdb9",
   "metadata": {},
   "outputs": [],
   "source": [
    "from outils import* # outils nécessaires au notebook"
   ]
  },
  {
   "cell_type": "markdown",
   "id": "958af48b",
   "metadata": {},
   "source": [
    "# <span style=\"text-decoration: underline;color:red;\"> Bases du langage Python </span> #\n",
    "![alt text](mes_images/logo_python.png \"logo du langage Python\")<br>\n",
    "![alt text](mes_images/Guido_van_Rossum.jpg \"créateur du langage Python\")<br>\n",
    "Le langage Python a été créé par le néerlandais Guido van Rossum en 1991.<br>\n",
    "Il existe de nombreux langages de programmation (voir ce site https://www.tiobe.com/tiobe-index/ qui indique la popularité des langages au cours du temps). Parmi les avantages du langage Python, on peut citer :<br>\n",
    "&nbsp;• facile à apprendre ; Python est devenu le langage privilégié pour l'enseignement de la programmation au niveau lycée partout dans le monde.  <br>\n",
    "&nbsp;• syntaxe simple et courte (cette simplicité engendre aussi certains défauts)  <br>\n",
    "&nbsp;• puissant, de haut niveau et polyvalent (réseau, images, interfaces graphiques, etc...)  <br>\n",
    "&nbsp;• très utilisé dans le domaine du \"Deep Learning\" et plus généralement de l'intelligence artificielle  <br>\n",
    "&nbsp;&nbsp;<br>\n",
    "Si le langage Python n'avait que des avantages, les autres langages concurrents auraient disparu. Le principal défaut de Python est sa relative lenteur par rapport à d'autres langages comme C/C++ ou Java. Enfin ce langage est peu adapté à la programmation sur smartphone.<br>\n",
    "\n",
    "# <span style=\"color:skyblue;\"> Sommaire </span> #\n",
    "## <span style=\"color:skyblue;\"> 1 Nombres et calculs </span> ##\n",
    "## <span style=\"color:skyblue;\">2 Variables et affectations </span> ##\n",
    "## <span style=\"color:skyblue;\">3 Chaînes de caractères </span> ##\n",
    "## <span style=\"color:skyblue;\">4 Saisie de l'entrée utilisateur </span> ##\n",
    "## <span style=\"color:skyblue;\">5 Booléens </span> ##\n",
    "## <span style=\"color:skyblue;\">6 Remarques </span> ##\n",
    "<br>\n",
    "<br>\n",
    "<h2 style=\"text-decoration:underline;\" id=\"partie1\">1- Nombres et calculs</h2><br><br><br>\n",
    "Python permet d'effectuer tout type de calcul, comme une calculatrice ordinaire.<br>\n"
   ]
  },
  {
   "cell_type": "code",
   "execution_count": 91,
   "id": "7cecc6d9",
   "metadata": {},
   "outputs": [
    {
     "data": {
      "text/plain": [
       "13"
      ]
     },
     "execution_count": 91,
     "metadata": {},
     "output_type": "execute_result"
    }
   ],
   "source": [
    "5+8"
   ]
  },
  {
   "cell_type": "code",
   "execution_count": 92,
   "id": "0d801c9c",
   "metadata": {},
   "outputs": [
    {
     "data": {
      "text/plain": [
       "47"
      ]
     },
     "execution_count": 92,
     "metadata": {},
     "output_type": "execute_result"
    }
   ],
   "source": [
    "5+6*7"
   ]
  },
  {
   "cell_type": "markdown",
   "id": "e8345fc3",
   "metadata": {},
   "source": [
    "Les règles de priorité des calculs sont les mêmes qu'en mathématiques. On utilise des parenthèses lorsqu'on a besoin de changer l'ordre de priorité.<div class=\"alert alert-info\"><strong>Exercice 1 : </strong> Cette année, j'ai quatre type de classes : <ul><li>secondes : 32 élèves</li><li>premières : 27 élèves</li><li>terminales : 34 élèves</li><li>bts : 33 élèves</li></ul>Chaque élève du lycée peu recevoir 50 photocopies et les étudiants 112.Combien dois-je prévoir de photocopies en tout ? <br>Ecris dans la cellule de code ci-dessous le calcul et exécute le.<br>\n",
    "</div><br>\n"
   ]
  },
  {
   "cell_type": "code",
   "execution_count": 93,
   "id": "4c8d2792",
   "metadata": {},
   "outputs": [
    {
     "data": {
      "text/plain": [
       "8346"
      ]
     },
     "execution_count": 93,
     "metadata": {},
     "output_type": "execute_result"
    }
   ],
   "source": [
    "#ecris une suite d'opérations donnant le nombre de photocopies\n",
    "(32+27+34)*50+33*112"
   ]
  },
  {
   "cell_type": "markdown",
   "id": "4e57faf3",
   "metadata": {},
   "source": [
    "Pour calculer une <strong>puissance</strong>, on utilise la notation ** . Par exemple pour calculer 7 au carré, on écrira 7**2.<div class=\"alert alert-info\"><strong>Exercice 2 : </strong> Calculer 6 au cube de deux manières différentes : en utilisant une puissance et sans utiliser de puissance.</div><br>\n"
   ]
  },
  {
   "cell_type": "code",
   "execution_count": 94,
   "id": "9549981e",
   "metadata": {},
   "outputs": [
    {
     "data": {
      "text/plain": [
       "216"
      ]
     },
     "execution_count": 94,
     "metadata": {},
     "output_type": "execute_result"
    }
   ],
   "source": [
    "#avec une puissance\n",
    "6**3"
   ]
  },
  {
   "cell_type": "code",
   "execution_count": 95,
   "id": "f12b1cba",
   "metadata": {},
   "outputs": [
    {
     "data": {
      "text/plain": [
       "216"
      ]
     },
     "execution_count": 95,
     "metadata": {},
     "output_type": "execute_result"
    }
   ],
   "source": [
    "#sans puissance\n",
    "6*6*6"
   ]
  },
  {
   "cell_type": "markdown",
   "id": "d391d350",
   "metadata": {},
   "source": [
    "Une des particularités du langage Python est que le nombre de chiffres n'est pas limité pour les nombres entiers.<br>\n",
    "<div class=\"alert alert-info\"><strong>Exercice 3 : </strong> Calculer 2 puissance 120. <br>\n",
    "</div><br>\n"
   ]
  },
  {
   "cell_type": "code",
   "execution_count": 96,
   "id": "b3748b2b",
   "metadata": {},
   "outputs": [
    {
     "data": {
      "text/plain": [
       "1329227995784915872903807060280344576"
      ]
     },
     "execution_count": 96,
     "metadata": {},
     "output_type": "execute_result"
    }
   ],
   "source": [
    "#calcul de 2 puissance 120 !\n",
    "2**120\n",
    "#le nombre obtenu est écrit avec 35 chiffres"
   ]
  },
  {
   "cell_type": "markdown",
   "id": "27faa417",
   "metadata": {},
   "source": [
    "<strong>Types numériques</strong> <br><br>\n",
    "Il existe plusieurs types de nombres en Python : les <strong>entiers</strong> (<code>int</code>, abréviation de \"integer\") et les <strong>flottants</strong> (<code>float</code>, abréviation de \"floating number\" qui signie \"nombre à virgule flottante\").<br>La fonction <code>type()</code> indique le type du nombre qu'on lui donne en paramètre. Exécute les lignes de code suivantes :"
   ]
  },
  {
   "cell_type": "code",
   "execution_count": 97,
   "id": "35918571",
   "metadata": {},
   "outputs": [
    {
     "data": {
      "text/plain": [
       "int"
      ]
     },
     "execution_count": 97,
     "metadata": {},
     "output_type": "execute_result"
    }
   ],
   "source": [
    "type(5)"
   ]
  },
  {
   "cell_type": "code",
   "execution_count": 98,
   "id": "06ea7b12",
   "metadata": {},
   "outputs": [
    {
     "data": {
      "text/plain": [
       "float"
      ]
     },
     "execution_count": 98,
     "metadata": {},
     "output_type": "execute_result"
    }
   ],
   "source": [
    "type(5.0)"
   ]
  },
  {
   "cell_type": "markdown",
   "id": "f5918b41",
   "metadata": {},
   "source": [
    "**La division**<br><br>\n",
    "Il existe deux types de division en Python : la division entière avec l'opérateur // et la division flottante avec l'opérateur / .<br><br>\n",
    "L'opérateur % permet d'obtenir le reste dans une division entière.<br><br>\n",
    "Exemples : exécute les lignes de code ci-dessous<br>\n"
   ]
  },
  {
   "cell_type": "code",
   "execution_count": 99,
   "id": "ba319c64",
   "metadata": {},
   "outputs": [
    {
     "data": {
      "text/plain": [
       "3"
      ]
     },
     "execution_count": 99,
     "metadata": {},
     "output_type": "execute_result"
    }
   ],
   "source": [
    "19//5"
   ]
  },
  {
   "cell_type": "code",
   "execution_count": 100,
   "id": "4ec5c38a",
   "metadata": {},
   "outputs": [
    {
     "data": {
      "text/plain": [
       "3.8"
      ]
     },
     "execution_count": 100,
     "metadata": {},
     "output_type": "execute_result"
    }
   ],
   "source": [
    "19/5"
   ]
  },
  {
   "cell_type": "code",
   "execution_count": 101,
   "id": "f8deeaee",
   "metadata": {},
   "outputs": [
    {
     "data": {
      "text/plain": [
       "4"
      ]
     },
     "execution_count": 101,
     "metadata": {},
     "output_type": "execute_result"
    }
   ],
   "source": [
    "19%5"
   ]
  },
  {
   "cell_type": "markdown",
   "id": "563c5ee1",
   "metadata": {},
   "source": [
    "Quel est le type de ces trois résultats ?<br>\n",
    "le quotient entier (//) est de type integer (int).<br>\n",
    "le quotient décimal (/) est de type float.<br>\n",
    "le reste entier (%) d'une division euclidienne est de type integer.<br>\n"
   ]
  },
  {
   "cell_type": "code",
   "execution_count": 102,
   "id": "58645fa4",
   "metadata": {},
   "outputs": [
    {
     "name": "stdout",
     "output_type": "stream",
     "text": [
      "<class 'int'>\n",
      "<class 'float'>\n",
      "<class 'int'>\n"
     ]
    }
   ],
   "source": [
    "print(type(19//5))\n",
    "print(type(19/5))\n",
    "print(type(19%5))"
   ]
  },
  {
   "cell_type": "markdown",
   "id": "496b9bd1",
   "metadata": {},
   "source": [
    "<div class=\"alert alert-info\"><strong>Exercice 4 : </strong> En utilisant les opérateurs précédents, écrire 437 secondes au format minutes:secondes.</div><br>\n",
    "Code pour obtenir le nombre de minutes :<br>\n"
   ]
  },
  {
   "cell_type": "code",
   "execution_count": 103,
   "id": "78bc6a25",
   "metadata": {},
   "outputs": [
    {
     "data": {
      "text/plain": [
       "7"
      ]
     },
     "execution_count": 103,
     "metadata": {},
     "output_type": "execute_result"
    }
   ],
   "source": [
    "#nombre de minutes\n",
    "437//60"
   ]
  },
  {
   "cell_type": "markdown",
   "id": "7e43b0ff",
   "metadata": {},
   "source": [
    "Code pour obtenir le nombre de secondes :<br>\n"
   ]
  },
  {
   "cell_type": "code",
   "execution_count": 104,
   "id": "00ecb4ac",
   "metadata": {},
   "outputs": [
    {
     "data": {
      "text/plain": [
       "17"
      ]
     },
     "execution_count": 104,
     "metadata": {},
     "output_type": "execute_result"
    }
   ],
   "source": [
    "#nombre de secondes\n",
    "437%60"
   ]
  },
  {
   "cell_type": "markdown",
   "id": "4e77707f",
   "metadata": {},
   "source": [
    "437 secondes = 7 minutes 17 secondes<br><br><br>\n",
    "<strong>Nombres aléatoires</strong><br><br>\n",
    "<p style=\"text-align:justify;\">Les fonctions concernant les nombres aléatoires ne font pas partie des fonctions de base du langage Python. Pour pouvoir les utiliser, on doit commencer par donner l'accès à une bibliothèque de fonctions appelée <code>random</code> (\"random\" signifie \"aléatoire\") au moyen de l'instruction <code>import random</code>.</p>Exécute plusieurs fois la cellule ci-dessous :<br>"
   ]
  },
  {
   "cell_type": "code",
   "execution_count": 105,
   "id": "9164f43d",
   "metadata": {},
   "outputs": [
    {
     "data": {
      "text/plain": [
       "6"
      ]
     },
     "execution_count": 105,
     "metadata": {},
     "output_type": "execute_result"
    }
   ],
   "source": [
    "import random\n",
    "random.randint(4,7)\n",
    "# en exécutant de façon répétée cette cellule de code on constate que l'on obtient de façon aléatoire \n",
    "# un nombre entier compris entre 4 et 7 inclus."
   ]
  },
  {
   "cell_type": "markdown",
   "id": "f11584ee",
   "metadata": {},
   "source": [
    "On peut aussi importer toutes les fonctions de la bibliothèque random d'un seul coup, ce qui permet d'éviter d'écrire le préfixe random. lorsqu'on utilise une de ces fonctions :<br>\n"
   ]
  },
  {
   "cell_type": "code",
   "execution_count": 106,
   "id": "4f1245b0",
   "metadata": {},
   "outputs": [
    {
     "data": {
      "text/plain": [
       "6"
      ]
     },
     "execution_count": 106,
     "metadata": {},
     "output_type": "execute_result"
    }
   ],
   "source": [
    "from random import *\n",
    "randint(4,7)"
   ]
  },
  {
   "cell_type": "markdown",
   "id": "9b209c1b",
   "metadata": {},
   "source": [
    "<div class=\"alert alert-info\"><strong>Exercice 5 : </strong> Simuler le lancer de deux dés et afficher la somme obtenue.<br>\n",
    "</div><br>\n"
   ]
  },
  {
   "cell_type": "code",
   "execution_count": 107,
   "id": "f2f118a2",
   "metadata": {},
   "outputs": [
    {
     "data": {
      "text/plain": [
       "4"
      ]
     },
     "execution_count": 107,
     "metadata": {},
     "output_type": "execute_result"
    }
   ],
   "source": [
    "#simultation du lancer de deux dés cubiques dont on effectue la somme\n",
    "# le résultat d'un dé est un nombre entier aléatoire entre 1 et 6\n",
    "# la somme correspond à une addition\n",
    "from random import *\n",
    "randint(1,6)+randint(1,6)"
   ]
  },
  {
   "cell_type": "markdown",
   "id": "1efecba2",
   "metadata": {},
   "source": [
    "La fonction random() renvoie un nombre aléatoire compris entre 0 inclus et 1 exclu, de type float :<br>\n",
    "⚠️Il n'y a aucun nombre à indiquer entre les deux parenthèses quand on invoque la fonction random() ;  <br>\n",
    "on dit qu'il n'y a pas de paramètre.<br>\n"
   ]
  },
  {
   "cell_type": "code",
   "execution_count": 108,
   "id": "76461a45",
   "metadata": {},
   "outputs": [
    {
     "data": {
      "text/plain": [
       "0.5573905760616327"
      ]
     },
     "execution_count": 108,
     "metadata": {},
     "output_type": "execute_result"
    }
   ],
   "source": [
    "#utilisation de la fonction random()\n",
    "random()"
   ]
  },
  {
   "cell_type": "markdown",
   "id": "967f0010",
   "metadata": {},
   "source": [
    "<h2 style=\"text-decoration:underline\" id=\"partie2\">2- Variables et affectations</h2><br><br>\n",
    "On peut conserver ou stocker un nombre ou le résultat d'un calcul dans une <strong>variable</strong>.<br> <br>\n",
    "Compléte les phrases  <code>#on affecte...</code> puis exécute le code."
   ]
  },
  {
   "cell_type": "code",
   "execution_count": 109,
   "id": "34a1e190",
   "metadata": {},
   "outputs": [
    {
     "data": {
      "text/plain": [
       "7"
      ]
     },
     "execution_count": 109,
     "metadata": {},
     "output_type": "execute_result"
    }
   ],
   "source": [
    "a = 2      # on affecte la valeur 2 à la variable a on dit aussi a prend la valeur 2\n",
    "b = 5      # on affecte la valeur 5 à la variable b on dit aussi b prend la valeur 5\n",
    "c = a + b  # on affecte la somme des variables a et b à la variable c on dit aussi c prend la valeur de la somme de a et b\n",
    "a = 3\t   # on affecte la valeur 3 à la variable a on dit aussi que a prend la valeur 3\n",
    "#ATTENTION la valeur contenue précédemment dans la variable a est remplacée par la dernière affectation\n",
    "c\n",
    "# la variable c n'est pas affectée par la nouvelle affectation de a"
   ]
  },
  {
   "cell_type": "markdown",
   "id": "29500eac",
   "metadata": {},
   "source": [
    "Le contenu des variables persiste en mémoire mais attention c'est la valeur de la dernière affectation qui est sauvegardée dans la variable. Chaque affectation dans une variable écrase (efface) la valeur précédente.  <br>\n",
    "Par exemple, la variable <code>a</code> a subi deux affectations, quelle sera sa valeur ?la valeur contenue dans <code>a</code> est la dernière valeur affectée, ici ce sera 3"
   ]
  },
  {
   "cell_type": "code",
   "execution_count": 110,
   "id": "5ff6e189",
   "metadata": {},
   "outputs": [
    {
     "data": {
      "text/plain": [
       "3"
      ]
     },
     "execution_count": 110,
     "metadata": {},
     "output_type": "execute_result"
    }
   ],
   "source": [
    "a"
   ]
  },
  {
   "cell_type": "markdown",
   "id": "947afb53",
   "metadata": {},
   "source": [
    "⚠️ : si on applique le code <code>c = a + b</code> la valeur contenue dans c sera modifiée."
   ]
  },
  {
   "cell_type": "code",
   "execution_count": 111,
   "id": "a759ec96",
   "metadata": {},
   "outputs": [
    {
     "name": "stdout",
     "output_type": "stream",
     "text": [
      "8\n"
     ]
    }
   ],
   "source": [
    "c = a + b\n",
    "print(c)"
   ]
  },
  {
   "cell_type": "markdown",
   "id": "f085ae43",
   "metadata": {},
   "source": [
    "⚠️Afficher une variable qui n'a pas encore été définie ou déclarée provoque une erreur :<br>\n"
   ]
  },
  {
   "cell_type": "code",
   "execution_count": 112,
   "id": "7906c9bc",
   "metadata": {},
   "outputs": [
    {
     "ename": "NameError",
     "evalue": "name 'd' is not defined",
     "output_type": "error",
     "traceback": [
      "\u001b[1;31m---------------------------------------------------------------------------\u001b[0m",
      "\u001b[1;31mNameError\u001b[0m                                 Traceback (most recent call last)",
      "Input \u001b[1;32mIn [112]\u001b[0m, in \u001b[0;36m<cell line: 1>\u001b[1;34m()\u001b[0m\n\u001b[1;32m----> 1\u001b[0m \u001b[43md\u001b[49m\n",
      "\u001b[1;31mNameError\u001b[0m: name 'd' is not defined"
     ]
    }
   ],
   "source": [
    "d"
   ]
  },
  {
   "cell_type": "markdown",
   "id": "7f7efbc7",
   "metadata": {},
   "source": [
    "<div class=\"alert alert-info\"><strong>Exercice 6 : </strong> Ecrire un algorithme qui échange le contenu des variables a et b ci-dessous (trois lignes à compléter).<br>\n",
    "</div><br>\n"
   ]
  },
  {
   "cell_type": "code",
   "execution_count": 114,
   "id": "35c205b2",
   "metadata": {},
   "outputs": [],
   "source": [
    "a = 7\n",
    "b = 4\n",
    "#ecris ici les affectations (3 lignes)\n",
    "auxiliaire = a\n",
    "a = b\n",
    "b = auxiliaire"
   ]
  },
  {
   "cell_type": "code",
   "execution_count": 115,
   "id": "0542c9cc",
   "metadata": {},
   "outputs": [
    {
     "name": "stdout",
     "output_type": "stream",
     "text": [
      "4\n"
     ]
    }
   ],
   "source": [
    "#affiche la valeur de a\n",
    "print(a)"
   ]
  },
  {
   "cell_type": "code",
   "execution_count": 116,
   "id": "d87a71e7",
   "metadata": {},
   "outputs": [
    {
     "name": "stdout",
     "output_type": "stream",
     "text": [
      "7\n"
     ]
    }
   ],
   "source": [
    "#affiche la valeur de b\n",
    "print(b)"
   ]
  },
  {
   "cell_type": "markdown",
   "id": "b7527afa",
   "metadata": {},
   "source": [
    "<div class=\"alert alert-info\"><strong>Exercice 6bis : </strong> Quel est le rôle de l'algorithme ci-dessous ? Prouvez-le !</div><br>\n"
   ]
  },
  {
   "cell_type": "code",
   "execution_count": 117,
   "id": "6ea35106",
   "metadata": {},
   "outputs": [],
   "source": [
    "x = 56\n",
    "y = 35\n",
    "x = x + y\n",
    "y = x - y\n",
    "x = x - y"
   ]
  },
  {
   "cell_type": "code",
   "execution_count": 118,
   "id": "3f3a7019",
   "metadata": {},
   "outputs": [
    {
     "name": "stdout",
     "output_type": "stream",
     "text": [
      "valeur dans x :  35\n",
      "valeur dans y :  56\n"
     ]
    }
   ],
   "source": [
    "#affiche la valeur de x, puis celle de y\n",
    "print(\"valeur dans x : \",x)\n",
    "print(\"valeur dans y : \",y)"
   ]
  },
  {
   "cell_type": "markdown",
   "id": "cf7023e6",
   "metadata": {},
   "source": [
    "Cet algorithme, échange le contenu des variables x et y.<br>\n"
   ]
  },
  {
   "cell_type": "markdown",
   "id": "16537cfc",
   "metadata": {},
   "source": [
    "**Syntaxe abrégée** <br><br>\n",
    "On a souvent besoin d'**incrémenter** une variable (augmenter sa valeur de 1) ou de la décrémenter (diminuer sa valeur de 1).<br><br>\n",
    "Au lieu d'écrire <code>a = a + 1</code>, on peut écrire de façon plus courte : <code>a += 1</code>.<br>Cette syntaxe raccourcie fonctionne pour n'importe quelle valeur de l'incrément, ainsi que pour les opérateurs <code>+ , - , *, / , // et %</code>.<div class=\"alert alert-info\"><strong>Exercice 7 : </strong> En utilisant la syntaxe abégée, ajouter 37 à la variable a ci-dessous, puis multiplier sa valeur par 2.</div><br>"
   ]
  },
  {
   "cell_type": "code",
   "execution_count": 119,
   "id": "722c853a",
   "metadata": {},
   "outputs": [
    {
     "data": {
      "text/plain": [
       "96"
      ]
     },
     "execution_count": 119,
     "metadata": {},
     "output_type": "execute_result"
    }
   ],
   "source": [
    "a=11\n",
    "a+=37\n",
    "a*=2\n",
    "a"
   ]
  },
  {
   "cell_type": "markdown",
   "id": "df055fc5",
   "metadata": {},
   "source": [
    "<h2 style=\"text-decoration:underline;\" id=\"partie3\";>3- Chaînes de caractères</h2><br><br>\n",
    "<p style=\"text-align:justify;\">La fonction <code>print()</code> permet d'afficher une chaîne de caractères (\"string\" en anglais).La chaîne de caractère que l'on souhaite afficher doit être écrite entre guillemets (simples ' double \" ou triples '''). Sans guillemets, c'est le contenu de la variable dont le nom est transmis en paramètre qui sera affiché.</p><br>"
   ]
  },
  {
   "cell_type": "code",
   "execution_count": 120,
   "id": "463ca701",
   "metadata": {},
   "outputs": [
    {
     "name": "stdout",
     "output_type": "stream",
     "text": [
      "bonjour\n",
      "8\n"
     ]
    }
   ],
   "source": [
    "bonjour = 8\n",
    "print(\"bonjour\")  # la phrase bonjour est affichée\n",
    "print(bonjour)    # le contenu de la variable bonjour est affichée"
   ]
  },
  {
   "cell_type": "markdown",
   "id": "2453b0c3",
   "metadata": {},
   "source": [
    "<div class=\"alert alert-info\"><strong>Exercice 8 : </strong> Ecrire une ligne de programme qui affiche le message \"Au revoir !\".</div><br>\n"
   ]
  },
  {
   "cell_type": "code",
   "execution_count": 121,
   "id": "4b0426b9",
   "metadata": {},
   "outputs": [
    {
     "name": "stdout",
     "output_type": "stream",
     "text": [
      "Au revoir !\n",
      "Au revoir !\n",
      "Au revoir !\n"
     ]
    }
   ],
   "source": [
    "#message d'au revoir !\n",
    "print(\"Au revoir !\")\n",
    "print('Au revoir !')\n",
    "print('''Au revoir !''')"
   ]
  },
  {
   "cell_type": "markdown",
   "id": "efc9c3d4",
   "metadata": {},
   "source": [
    "Une variable peut contenir une chaîne de caractères :<br>\n"
   ]
  },
  {
   "cell_type": "code",
   "execution_count": 122,
   "id": "0f007156",
   "metadata": {},
   "outputs": [
    {
     "name": "stdout",
     "output_type": "stream",
     "text": [
      "coucou\n"
     ]
    },
    {
     "data": {
      "text/plain": [
       "str"
      ]
     },
     "execution_count": 122,
     "metadata": {},
     "output_type": "execute_result"
    }
   ],
   "source": [
    "message = \"coucou\"\n",
    "print(message)\n",
    "type(message)"
   ]
  },
  {
   "cell_type": "markdown",
   "id": "076eda4a",
   "metadata": {},
   "source": [
    "On peut afficher plusieurs chaînes de caractères à l'aide d'une seule instruction print(). Par défaut, un espace sera inséré entre chaque chaîne :<br>\n"
   ]
  },
  {
   "cell_type": "code",
   "execution_count": 123,
   "id": "c7860a91",
   "metadata": {},
   "outputs": [
    {
     "name": "stdout",
     "output_type": "stream",
     "text": [
      "Vous avez 32 ans.\n"
     ]
    }
   ],
   "source": [
    "age = 32\n",
    "print(\"Vous avez\",age,\"ans.\")"
   ]
  },
  {
   "cell_type": "markdown",
   "id": "2ae5a1c8",
   "metadata": {},
   "source": [
    "Plutôt qu'un espace, on peut insérer :<br>\n",
    "un autre caractère (par exemple un point-virgule) plusieurs caractères (par exemple \" et \") aucun caractère (les chaînes seront \"collées\") un saut de ligne (que l'on écrit \"\\n\", et qui signifie \"new line\")<br>\n"
   ]
  },
  {
   "cell_type": "code",
   "execution_count": 124,
   "id": "86f8355a",
   "metadata": {},
   "outputs": [
    {
     "name": "stdout",
     "output_type": "stream",
     "text": [
      "Victor;Léa;Ninon\n",
      "Victor et Léa et Ninon\n",
      "VictorLéaNinon\n",
      "Victor\n",
      "Léa\n",
      "Ninon\n"
     ]
    }
   ],
   "source": [
    "print(\"Victor\",\"Léa\",\"Ninon\",sep=\";\")\n",
    "print(\"Victor\",\"Léa\",\"Ninon\",sep=\" et \")\n",
    "print(\"Victor\",\"Léa\",\"Ninon\",sep=\"\")\n",
    "print(\"Victor\",\"Léa\",\"Ninon\",sep=\"\\n\")"
   ]
  },
  {
   "cell_type": "markdown",
   "id": "5311d973",
   "metadata": {},
   "source": [
    "<div class=\"alert alert-info\"><strong>Exercice 9 : </strong> Ecrire un instruction qui affiche la liste de courses séparées par un tiret. Il faut des pommes, des yaourts, des biscuits et de la lessive.</div><br>\n"
   ]
  },
  {
   "cell_type": "code",
   "execution_count": 125,
   "id": "b9315f91",
   "metadata": {},
   "outputs": [
    {
     "name": "stdout",
     "output_type": "stream",
     "text": [
      "pommes-yaourts-biscuits-lessive\n"
     ]
    }
   ],
   "source": [
    "#affichage de la liste de courses\n",
    "print(\"pommes\",\"yaourts\",\"biscuits\",'lessive',sep=\"-\")"
   ]
  },
  {
   "cell_type": "markdown",
   "id": "4773a85b",
   "metadata": {},
   "source": [
    "Si on ne souhaite pas passer à la ligne suivante pour la prochaine instruction print, on peut l'indiquer au moyen du paramètre end=\"\" :<br>\n"
   ]
  },
  {
   "cell_type": "code",
   "execution_count": 126,
   "id": "a438dca5",
   "metadata": {},
   "outputs": [
    {
     "name": "stdout",
     "output_type": "stream",
     "text": [
      "Victor\n",
      "Léa\n",
      "Ninon\n",
      "VictorLéaNinon\n"
     ]
    }
   ],
   "source": [
    "print(\"Victor\")\n",
    "print(\"Léa\")\n",
    "print(\"Ninon\")\n",
    "print(\"Victor\",end=\"\")\n",
    "print(\"Léa\",end=\"\")\n",
    "print(\"Ninon\")"
   ]
  },
  {
   "cell_type": "markdown",
   "id": "5409761c",
   "metadata": {},
   "source": [
    "On peut **concaténer** (fusionner) plusieurs chaînes de caractère au moyen de l'opérateur + :<br>\n"
   ]
  },
  {
   "cell_type": "code",
   "execution_count": 127,
   "id": "1559ecb2",
   "metadata": {},
   "outputs": [
    {
     "name": "stdout",
     "output_type": "stream",
     "text": [
      "Bonjour Madame\n",
      "Bonjour Madame!\n"
     ]
    }
   ],
   "source": [
    "message1 = \"Bonjour \"\n",
    "message2 = \"Madame\"\n",
    "message3 = message1 + message2\n",
    "print(message3)\n",
    "message3+=\"!\"    # la syntaxe abrégée fonctionne aussi pour la concaténation de chaînes de caractères\n",
    "print(message3)"
   ]
  },
  {
   "cell_type": "markdown",
   "id": "70ae5948",
   "metadata": {},
   "source": [
    "On ne peut pas concaténer une chaîne de caractères avec une valeur numérique directement. Il faut au préalable transformer la valeur numérique en chaîne de caractères au moyen de la fonction <code>str()</code> :"
   ]
  },
  {
   "cell_type": "code",
   "execution_count": 128,
   "id": "36554211",
   "metadata": {},
   "outputs": [
    {
     "name": "stdout",
     "output_type": "stream",
     "text": [
      "J'ai 25 ans.\n"
     ]
    }
   ],
   "source": [
    "âge = 25\n",
    "début = \"J'ai \"\n",
    "fin = \" ans.\"\n",
    "phrase = début + str(âge) + fin\n",
    "print(phrase)"
   ]
  },
  {
   "cell_type": "markdown",
   "id": "6563f5c2",
   "metadata": {},
   "source": [
    "<div class=\"alert alert-info\"><strong>Exercice 10 : </strong> Complète le code ci-dessous par une suite d'instructions qui se termine par l'affichage de la durée exprimée en secondes en min:sec avec une phrase du type : \"la duree de 437 s est égale à 7 minutes 17 secondes\"<br>\n",
    "</div><br>\n"
   ]
  },
  {
   "cell_type": "code",
   "execution_count": 129,
   "id": "19dea749",
   "metadata": {},
   "outputs": [
    {
     "name": "stdout",
     "output_type": "stream",
     "text": [
      "La durée de  789  secondes est égale à  13  minutes ,  9  secondes\n"
     ]
    }
   ],
   "source": [
    "duree=789 #duree en secondes à convertir au format min:sec \n",
    "#calculs et affichage de la réponse.\n",
    "min=789//60\n",
    "sec=789%60\n",
    "print(\"La durée de \",duree,\" secondes est égale à \",min,\" minutes , \",sec,\" secondes\")"
   ]
  },
  {
   "cell_type": "markdown",
   "id": "83251d9d",
   "metadata": {},
   "source": [
    "<div class=\"alert alert-info\"><strong>Exercice 11 : </strong> Complète le code ci-dessous par une suite d'instructions qui se termine par l'affichage de l'aire et du prérimètre d'un rectangle avec une phrase du type :<br><br>\n",
    "&nbsp;&nbsp;&nbsp;&nbsp;&nbsp;&nbsp;&nbsp;&nbsp;&nbsp;&nbsp;&nbsp;&nbsp;&nbsp;&nbsp;&nbsp;&nbsp;&nbsp;&nbsp;&nbsp;&nbsp;&nbsp;&nbsp;&nbsp;&nbsp;&nbsp;&nbsp;&nbsp;&nbsp;&nbsp;\"Un rectangle de longeur 13 cm et de largeur 5 cm a   <br><br>\n",
    "&nbsp;&nbsp;&nbsp;&nbsp;&nbsp;&nbsp;&nbsp;&nbsp;&nbsp;&nbsp;&nbsp;&nbsp;&nbsp;&nbsp;&nbsp;&nbsp;&nbsp;&nbsp;&nbsp;&nbsp;&nbsp;&nbsp;&nbsp;&nbsp;&nbsp;&nbsp;&nbsp;&nbsp;&nbsp;&nbsp;&nbsp;&nbsp;&nbsp;&nbsp;&nbsp;&nbsp;&nbsp;&nbsp;&nbsp;&nbsp;&nbsp;&nbsp;&nbsp;&nbsp;&nbsp;&nbsp;un périmètre de 36 cm <br><br>\n",
    "&nbsp;&nbsp;&nbsp;&nbsp;&nbsp;&nbsp;&nbsp;&nbsp;&nbsp;&nbsp;&nbsp;&nbsp;&nbsp;&nbsp;&nbsp;&nbsp;&nbsp;&nbsp;&nbsp;&nbsp;&nbsp;&nbsp;&nbsp;&nbsp;&nbsp;&nbsp;&nbsp;&nbsp;&nbsp;&nbsp;&nbsp;&nbsp;&nbsp;&nbsp;&nbsp;&nbsp;&nbsp;&nbsp;&nbsp;&nbsp;&nbsp;&nbsp;&nbsp;&nbsp;&nbsp;&nbsp;une aire de 65 cm²</div><br>\n"
   ]
  },
  {
   "cell_type": "code",
   "execution_count": 130,
   "id": "87d2f54b",
   "metadata": {},
   "outputs": [
    {
     "name": "stdout",
     "output_type": "stream",
     "text": [
      "Un rectangle de longeur  45  cm et de largeur  31  cm a :\n",
      "un périmètre de :  152  cm\n",
      "une aire de :   1395  cm²\n"
     ]
    }
   ],
   "source": [
    "long=45\n",
    "larg=31\n",
    "#calculs et affichage des réponses\n",
    "print(\"Un rectangle de longeur \",long,' cm et de largeur ',larg,\" cm a :\")\n",
    "print(\"un périmètre de : \",(long+larg)*2,\" cm\")\n",
    "print(\"une aire de :  \", larg*long, \" cm²\")"
   ]
  },
  {
   "cell_type": "markdown",
   "id": "e0c29427",
   "metadata": {},
   "source": [
    "<div class=\"alert alert-info\"><strong>Exercice 12 : </strong> Affichage de l'énoncé, réalisation d'un calcul et affichage du résultat<br>\n",
    "</div><br>\n"
   ]
  },
  {
   "cell_type": "code",
   "execution_count": 131,
   "id": "99035246",
   "metadata": {},
   "outputs": [
    {
     "name": "stdout",
     "output_type": "stream",
     "text": [
      "L'expression 2a*(b/3 - c²) vaut exactement : -1713.9872\n"
     ]
    }
   ],
   "source": [
    "# Affecter les valeurs 4, 12.6 et -14.78 à trois variables a, b et c.\n",
    "# Déterminer ensuite la valeur de l'expression 2a*(b/3 - c²).\n",
    "a=4\n",
    "b=12.6\n",
    "c=-14.78\n",
    "calcul=2*a*(b/3 - c**2)\n",
    "print(\"L'expression 2a*(b/3 - c²) vaut exactement :\",calcul)"
   ]
  },
  {
   "cell_type": "markdown",
   "id": "e1d8ce0e",
   "metadata": {},
   "source": [
    "<h2 style=\"text-decoration:underline;\" id=\"partie3\";>4- Saisie de l'entrée utilisateur</h2><br><br>\n",
    "On peut demander à l'utilisateur de saisir une valeur avec la fonction <code>input()</code>. On peut ajouter en paramètre facultatif un message qui donne des précisions sur la valeur attendue :"
   ]
  },
  {
   "cell_type": "code",
   "execution_count": 133,
   "id": "f8104314",
   "metadata": {},
   "outputs": [
    {
     "name": "stdout",
     "output_type": "stream",
     "text": [
      "fg456kl\n",
      "Entrez votre âge : 15\n"
     ]
    }
   ],
   "source": [
    "a = input() # quand il n'y a pas de précison on ne sait pas bien ce qu'il faut saisir au clavier\n",
    "b = input(\"Entrez votre âge : \") #on passe un message en paramètre permettant de savoir ce qui est attendu"
   ]
  },
  {
   "cell_type": "markdown",
   "id": "a1343559",
   "metadata": {},
   "source": [
    "⚠️⚠️La valeur renvoyée par la fonction input() est du type chaîne de caractères (string). Si on souhaite utiliser cette valeur pour effectuer des calculs, on doit d'abord convertir cette chaîne en entier avec la fonction int() ou en flottant avec la fonction float() :⚠️⚠️<br>\n"
   ]
  },
  {
   "cell_type": "markdown",
   "id": "6361506c",
   "metadata": {},
   "source": [
    "<font color=\"red\" > **Attention !** </font> Toute variable saisie par l'utilisateur est pour Python une **chaîne de caractères** !\n",
    "- **L'instruction `type()` permet de vérifier le type de variable utilisée.**\n",
    "\n"
   ]
  },
  {
   "cell_type": "code",
   "execution_count": 134,
   "id": "8a4066a9",
   "metadata": {},
   "outputs": [
    {
     "name": "stdout",
     "output_type": "stream",
     "text": [
      "entre un nombre entier :  123\n",
      "<class 'str'>\n"
     ]
    }
   ],
   "source": [
    "a = input (\"entre un nombre entier :  \") # la variable sera considérée comme une chaîne de caractères\n",
    "print(type(a))"
   ]
  },
  {
   "cell_type": "markdown",
   "id": "a7bda516",
   "metadata": {},
   "source": [
    "**On ne peut pas faire des calculs** avec des chaines de caractères donc on convertit en nombres avec **int( )** ou **float( )**<br>\n"
   ]
  },
  {
   "cell_type": "code",
   "execution_count": 135,
   "id": "53c1d750",
   "metadata": {},
   "outputs": [
    {
     "name": "stdout",
     "output_type": "stream",
     "text": [
      "donne un entier a egal à 123 :  123\n"
     ]
    },
    {
     "data": {
      "text/plain": [
       "str"
      ]
     },
     "execution_count": 135,
     "metadata": {},
     "output_type": "execute_result"
    }
   ],
   "source": [
    "a=input(\"donne un entier a egal à 123 :  \")\n",
    "type(a)"
   ]
  },
  {
   "cell_type": "code",
   "execution_count": 136,
   "id": "8499d776",
   "metadata": {},
   "outputs": [
    {
     "name": "stdout",
     "output_type": "stream",
     "text": [
      "donne un décimal b egal à 45,6 :  45.6\n"
     ]
    },
    {
     "data": {
      "text/plain": [
       "str"
      ]
     },
     "execution_count": 136,
     "metadata": {},
     "output_type": "execute_result"
    }
   ],
   "source": [
    "b=input(\"donne un décimal b egal à 45,6 :  \")\n",
    "type(b)"
   ]
  },
  {
   "cell_type": "code",
   "execution_count": 137,
   "id": "2c3a7064",
   "metadata": {},
   "outputs": [
    {
     "name": "stdout",
     "output_type": "stream",
     "text": [
      "12345.6\n"
     ]
    }
   ],
   "source": [
    "print(a+b)\n",
    "#le résultat obtenu est la concaténation des deux chaines contenues dans a et b"
   ]
  },
  {
   "cell_type": "code",
   "execution_count": 138,
   "id": "ef844701",
   "metadata": {},
   "outputs": [
    {
     "name": "stdout",
     "output_type": "stream",
     "text": [
      "<class 'int'>\n",
      "<class 'float'>\n",
      "168.6\n"
     ]
    }
   ],
   "source": [
    "#convertir ces saises utilisateur pour calculer leur somme et leur produit et affiche les résultats\n",
    "a=int(a) # permet de convertir la chaine en un nombre entier\n",
    "b=float(b) # permet de convertir la chaine en float\n",
    "print(type(a))\n",
    "print(type(b))\n",
    "print(a+b) # on peut maintenant effectuer la somme de ces deux nombres"
   ]
  },
  {
   "cell_type": "markdown",
   "id": "6fd1a327",
   "metadata": {},
   "source": [
    "<div class=\"alert alert-info\"><strong>Exercice 13 : </strong> Ecrire un programme qui demande le prénom de l'utilisateur, son age actuel et une année après 2022.  <br>\n",
    "Le programme affichera en réponse : \"Bonjour <span style=\"font-family:Courier New;font-size: 100%;\">prenom</span>, en <span style=\"font-family:Courier New;font-size: 100%;\">annee</span>, tu auras <span style=\"font-family:Courier New;font-size: 100%;\">age</span> ans\"<br>\n"
   ]
  },
  {
   "cell_type": "code",
   "execution_count": 139,
   "id": "d9d0c4af",
   "metadata": {},
   "outputs": [
    {
     "name": "stdout",
     "output_type": "stream",
     "text": [
      "Donne ton âge entier actuel :  15\n",
      "Donne ton prénom :  Léo\n",
      "donne une année après 2022 :  2025\n",
      "Bonjour  Léo  en  2025 tu auras  18  ans\n"
     ]
    }
   ],
   "source": [
    "#utilise trois variables : nom, annee et age.\n",
    "age = input(\"Donne ton âge entier actuel :  \")\n",
    "prenom = input(\"Donne ton prénom :  \")\n",
    "annee = input(\"donne une année après 2022 :  \")\n",
    "age=int(age)\n",
    "annee = int(annee)\n",
    "print(\"Bonjour \",prenom,\" en \",annee, \"tu auras \",age+(annee-2022),\" ans\")"
   ]
  }
 ],
 "metadata": {
  "kernelspec": {
   "display_name": "Python 3 (ipykernel)",
   "language": "python",
   "name": "python3"
  },
  "language_info": {
   "codemirror_mode": {
    "name": "ipython",
    "version": 3
   },
   "file_extension": ".py",
   "mimetype": "text/x-python",
   "name": "python",
   "nbconvert_exporter": "python",
   "pygments_lexer": "ipython3",
   "version": "3.9.12"
  }
 },
 "nbformat": 4,
 "nbformat_minor": 5
}
