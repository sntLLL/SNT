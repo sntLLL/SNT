{
 "cells": [
  {
   "cell_type": "code",
   "execution_count": 1,
   "id": "757e0ecb",
   "metadata": {},
   "outputs": [],
   "source": [
    "from outils import* # outils nécessaires au notebook"
   ]
  },
  {
   "cell_type": "markdown",
   "id": "e3c407b1",
   "metadata": {},
   "source": [
    "# <span style=\"text-decoration: underline;color:red;\"> Les boucles bornées : l'instruction  </span>    <code>for</code>\n"
   ]
  },
  {
   "cell_type": "markdown",
   "id": "e758e368",
   "metadata": {},
   "source": [
    "![alt text](mes_images/logo_python.png \"logo du langage Python\")<br>\n"
   ]
  },
  {
   "cell_type": "markdown",
   "id": "2b0213ca",
   "metadata": {},
   "source": [
    "<div class=\"alert alert-info\" role=\"alert\"><br>\n",
    "<strong>Définition</strong>  <br>\n",
    "Si l'on désire répéter une instruction plusieurs fois, deux solutions s'offrent à nous :<br>\n",
    "• Soit écrire plusieurs fois l'instruction, en séquence. C'est pénible et fort peu pratique.<br>\n",
    "• Soit utiliser une <i>boucle</i>. Lorsque que le nombre de répétitions est connu, on utilise une <i>boucle bornée</i>. Une boucle bornée nécessite un <i>compteur</i>, c'est-à-dire une variable qui compte le nombre de tours de la boucle.<br>\n",
    "</div><br>\n",
    "<br>\n",
    "En pseudo-code :  <br>\n",
    "&nbsp;&nbsp;&nbsp;&nbsp;Pour i allant de 1 à n Faire     <-- ici le compteur est la variable i<br>\n",
    "&nbsp;&nbsp;&nbsp;&nbsp;&nbsp;&nbsp;&nbsp;&nbsp;Traitement<br>\n",
    "&nbsp;&nbsp;&nbsp;&nbsp;Fin Pour  <br>\n",
    "<br>\n",
    "&nbsp;&nbsp;&nbsp;<br>\n",
    "<div class=\"alert alert-danger\" role=\"alert\"><br>\n",
    "<br>\n",
    "<strong>Remarques</strong>  <br>\n",
    "• En Python, la fonction <code>range()</code> est indispensable pour écrire une boucle. Elle énumère les entiers de 0 à la valeur strictement inférieure à celle entrée dans la fonction. Autrement dit, si on veut énumérer les entiers de 0 à 9, on écrira `range(10)`.  • En Python, une boucle bornée s'écrit avec le mot clé <code>for</code> :  <br><br><code>for i in range(10):<br>&nbsp;&nbsp;&nbsp;&nbsp;&nbsp;&nbsp;print(\"J'adore la programmation !\")<br></code>Ce programme affiche 10 fois \"J'adore la programmation !\". Pas très utile...  <br>\n",
    "</div><br>\n",
    "&nbsp;&nbsp;&nbsp;&nbsp;<br>\n"
   ]
  },
  {
   "cell_type": "markdown",
   "id": "e34edee4",
   "metadata": {},
   "source": [
    "<strong>Exemples</strong>  <br>\n",
    "Tester le programme suivant. Que fait-il ?<br>\n",
    "Donner la réponse sous forme de commentaire dans la cellule de code<br>\n"
   ]
  },
  {
   "cell_type": "code",
   "execution_count": 2,
   "id": "210f1941",
   "metadata": {},
   "outputs": [
    {
     "name": "stdout",
     "output_type": "stream",
     "text": [
      "0\n",
      "9\n",
      "18\n",
      "27\n",
      "36\n",
      "45\n",
      "54\n",
      "63\n",
      "72\n",
      "81\n"
     ]
    }
   ],
   "source": [
    "for i in range(10):\n",
    "    print(9*i)\n",
    "# Le programme donne les valeurs de la table de neuf : de zéro fois neuf à neuf fois neuf\n",
    "\n",
    "# On remarque que le compteur démarre à zéro et s'arrête toujours en Python un rang avant la valeur spécifiée dans range()"
   ]
  },
  {
   "cell_type": "code",
   "execution_count": 3,
   "id": "681a4e5c",
   "metadata": {},
   "outputs": [
    {
     "data": {
      "text/plain": [
       "4950"
      ]
     },
     "execution_count": 3,
     "metadata": {},
     "output_type": "execute_result"
    }
   ],
   "source": [
    "somme = 0\n",
    "for i in range(100):\n",
    "    somme = somme + i\n",
    "somme\n",
    "# Le programme calcule la somme des entiers de zéro inclus à 100 exclu\n",
    "#somme = 0 + 1 + 2 + 3 + 4 + ... + 96 + 97 + 98 + 99"
   ]
  },
  {
   "cell_type": "markdown",
   "id": "a9857d4e",
   "metadata": {},
   "source": [
    "<div class=\"alert alert-info\"><strong>Exercice 1 : </strong>   <br>\n",
    "À l'aide des exemples précédents, écrire un programme qui calcule la somme des 50 premiers nombres pairs.  <br>\n",
    "&nbsp;&nbsp;&nbsp;</div><br>\n"
   ]
  },
  {
   "cell_type": "code",
   "execution_count": 4,
   "id": "e2b25fdb",
   "metadata": {},
   "outputs": [
    {
     "name": "stdout",
     "output_type": "stream",
     "text": [
      "la somme des 50 premiers nombres paires\n",
      "somme = 0 + 2 + 4 + 6 + 8 + 10 + ... + 98\n",
      "somme =   2450\n"
     ]
    }
   ],
   "source": [
    "#programme qui calcule la somme des 50 premiers nombres pairs.\n",
    "somme = 0 # on initialise\n",
    "for k in range(50):\n",
    "    somme = somme + 2 * k\n",
    "print(\"la somme des 50 premiers nombres paires\")\n",
    "print(\"somme = 0 + 2 + 4 + 6 + 8 + 10 + ... + 98\")\n",
    "print(\"somme =  \", somme)"
   ]
  },
  {
   "cell_type": "markdown",
   "id": "477d041a",
   "metadata": {},
   "source": [
    "<div class=\"alert alert-info\"><strong>Exercice 2 : </strong>   <br>\n",
    "En utilisant l'instruction \"for\", écrire un programme affichant en sortie la table de multiplication de 6 en allant de 1 à 10. <br>\n",
    "&nbsp;</div><br>\n"
   ]
  },
  {
   "cell_type": "code",
   "execution_count": 3,
   "id": "c8df10ef",
   "metadata": {},
   "outputs": [
    {
     "name": "stdout",
     "output_type": "stream",
     "text": [
      "1  × 6 =  6\n",
      "2  × 6 =  12\n",
      "3  × 6 =  18\n",
      "4  × 6 =  24\n",
      "5  × 6 =  30\n",
      "6  × 6 =  36\n",
      "7  × 6 =  42\n",
      "8  × 6 =  48\n",
      "9  × 6 =  54\n",
      "10  × 6 =  60\n"
     ]
    }
   ],
   "source": [
    "for k in range(1,11):\n",
    "    print(k,\" × 6 = \",k * 6)"
   ]
  }
 ],
 "metadata": {
  "kernelspec": {
   "display_name": "Python 3 (ipykernel)",
   "language": "python",
   "name": "python3"
  },
  "language_info": {
   "codemirror_mode": {
    "name": "ipython",
    "version": 3
   },
   "file_extension": ".py",
   "mimetype": "text/x-python",
   "name": "python",
   "nbconvert_exporter": "python",
   "pygments_lexer": "ipython3",
   "version": "3.9.12"
  }
 },
 "nbformat": 4,
 "nbformat_minor": 5
}
